{
 "cells": [
  {
   "cell_type": "code",
   "execution_count": null,
   "metadata": {},
   "outputs": [],
   "source": [
    "import pandas as pd\n",
    "import numpy as np\n",
    "import sys\n",
    "import os\n",
    "import time\n",
    "import requests"
   ]
  },
  {
   "cell_type": "markdown",
   "metadata": {},
   "source": [
    "## Read in the pickled data from step 1 and merge it up"
   ]
  },
  {
   "cell_type": "code",
   "execution_count": null,
   "metadata": {},
   "outputs": [],
   "source": [
    "files =  os.listdir('.')\n",
    "files = [ f for f in files if f.endswith('.pickle')]\n",
    "\n",
    "df = pd.read_pickle(files[0])\n",
    "\n",
    "for f in files[1:]:\n",
    "    fdf = pd.read_pickle(f)\n",
    "    df = df.append(fdf, ignore_index = True)\n",
    "         "
   ]
  },
  {
   "cell_type": "code",
   "execution_count": null,
   "metadata": {},
   "outputs": [],
   "source": [
    "# I accidentally pickled the index column... in step 1: let's drop that\n",
    "df = df.drop(columns='index')"
   ]
  },
  {
   "cell_type": "code",
   "execution_count": null,
   "metadata": {},
   "outputs": [],
   "source": [
    "df.shape"
   ]
  },
  {
   "cell_type": "markdown",
   "metadata": {},
   "source": [
    "## Go fetch the variables of interest from the Money Matters page\n",
    "\n",
    "This class just collects where all the pieces I want to scrape are located on the page"
   ]
  },
  {
   "cell_type": "code",
   "execution_count": null,
   "metadata": {},
   "outputs": [],
   "source": [
    "class MoneyMattersPage():\n",
    "    \n",
    "    def __init__(self, html):\n",
    "            \n",
    "        df = pd.read_html(html)\n",
    "        \n",
    "        self.methodology = df[2].loc[2,1].split()[0]\n",
    "        loan_txt = df[6].loc[0,1]\n",
    "        avg_debt_txt = df[6].loc[1,1]\n",
    "        plus_txt = df[6].loc[3,1]\n",
    "        \n",
    "        if loan_txt[0].isdigit():\n",
    "            self.loan_pct = float(loan_txt[:-1])\n",
    "        else: \n",
    "            self.loan_pct = np.nan\n",
    "            \n",
    "        if plus_txt[0].isdigit():\n",
    "            self.plus_pct = float(plus_txt[:-1])\n",
    "        else:\n",
    "            self.plus_pct = np.nan\n",
    "        \n",
    "        if avg_debt_txt[0] == '$':\n",
    "            self.avg_debt = int(avg_debt_txt[1:].replace(',', \"\"))\n",
    "        else:\n",
    "            self.avg_debt = np.nan"
   ]
  },
  {
   "cell_type": "code",
   "execution_count": null,
   "metadata": {},
   "outputs": [],
   "source": [
    "# Add the columns for the new data \n",
    "\n",
    "df['LoanPct'] = np.nan\n",
    "df['AvgDebt'] = np.nan\n",
    "df['PLUSPct'] = np.nan\n",
    "df['Method']  = \"\""
   ]
  },
  {
   "cell_type": "code",
   "execution_count": null,
   "metadata": {},
   "outputs": [],
   "source": [
    "# quick check \n",
    "\n",
    "df.head()"
   ]
  },
  {
   "cell_type": "code",
   "execution_count": null,
   "metadata": {},
   "outputs": [],
   "source": [
    "# This had to be re-executed a couple of times -- so there's a \n",
    "# print statement to see if it's still running and a check to see\n",
    "# if the page has been fetched already. The method is either \"Federal Methodogy\",\n",
    "# \"Institutional Methodology\" or \"Not Reported\" -- there is never a NaN if\n",
    "# I've visted the page before\n",
    "count = 0\n",
    "for i in df.index:\n",
    "    row = df.loc[i,]\n",
    "    if row.Method == \"\": # for restarting the download where left off\n",
    "        response = requests.get(row.Money_url)\n",
    "        if response.status_code != requests.codes.ok:\n",
    "            response.raise_for_status()\n",
    "        data = MoneyMattersPage(response.text)\n",
    "        df.loc[i,'LoanPct']  = data.loan_pct\n",
    "        df.loc[i,'AvgDebt']  = data.avg_debt\n",
    "        df.loc[i,'PLUSPct']  = data.plus_pct\n",
    "        df.loc[i,'Method']   = data.methodology\n",
    "        count += 1\n",
    "        print(count) # print statement is to see if it's running or hung, can comment out\n",
    "        time.sleep(1)"
   ]
  },
  {
   "cell_type": "code",
   "execution_count": null,
   "metadata": {},
   "outputs": [],
   "source": [
    "df.to_pickle(\"scraped.pck\")"
   ]
  },
  {
   "cell_type": "code",
   "execution_count": null,
   "metadata": {},
   "outputs": [],
   "source": [
    "# one more quick check\n",
    "df.head(30)"
   ]
  },
  {
   "cell_type": "code",
   "execution_count": null,
   "metadata": {},
   "outputs": [],
   "source": [
    "# should have no more empty strings left if the pages were all visited\n",
    "df.Method.unique()"
   ]
  },
  {
   "cell_type": "code",
   "execution_count": null,
   "metadata": {},
   "outputs": [],
   "source": []
  }
 ],
 "metadata": {
  "kernelspec": {
   "display_name": "Python 3",
   "language": "python",
   "name": "python3"
  },
  "language_info": {
   "codemirror_mode": {
    "name": "ipython",
    "version": 3
   },
   "file_extension": ".py",
   "mimetype": "text/x-python",
   "name": "python",
   "nbconvert_exporter": "python",
   "pygments_lexer": "ipython3",
   "version": "3.7.1"
  }
 },
 "nbformat": 4,
 "nbformat_minor": 2
}
