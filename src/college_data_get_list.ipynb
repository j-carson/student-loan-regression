{
 "cells": [
  {
   "cell_type": "code",
   "execution_count": 1,
   "metadata": {},
   "outputs": [],
   "source": [
    "import pandas as pd\n",
    "import numpy as np\n",
    "import time\n",
    "import os\n",
    "\n",
    "from selenium import webdriver\n",
    "from selenium.webdriver.common.keys import Keys\n",
    "# from selenium.webdriver.common.action_chains import ActionChains\n",
    "from selenium.webdriver.support.ui import Select\n",
    "from bs4 import BeautifulSoup"
   ]
  },
  {
   "cell_type": "code",
   "execution_count": 2,
   "metadata": {},
   "outputs": [],
   "source": [
    "url = \"https://www.collegedata.com/cs/search/college/college_search_tmpl.jhtml\""
   ]
  },
  {
   "cell_type": "code",
   "execution_count": 36,
   "metadata": {},
   "outputs": [],
   "source": [
    "profile = webdriver.FirefoxProfile()\n",
    "\n",
    "profile.set_preference(\"dom.disable_open_during_load\", False)\n",
    "driver = webdriver.Firefox(firefox_profile=profile)\n",
    "\n",
    "driver = webdriver.Firefox()\n",
    "driver.get(url)"
   ]
  },
  {
   "cell_type": "markdown",
   "metadata": {},
   "source": [
    "## SHRINK THE PAGE BEFORE HITTING RETURN ON THE NEXT LINES"
   ]
  },
  {
   "cell_type": "code",
   "execution_count": 37,
   "metadata": {},
   "outputs": [],
   "source": [
    "button = driver.find_element_by_name(\"institutionType\")"
   ]
  },
  {
   "cell_type": "code",
   "execution_count": 38,
   "metadata": {},
   "outputs": [
    {
     "data": {
      "text/plain": [
       "'<select name=\"institutionType\" class=\"sel singleLineSel\"><option value=\"\">No Preference</option>\\n<option value=\"2\">Private</option>\\n<option value=\"1\">Public</option>\\n<option value=\"3\">Private for-profit</option></select>'"
      ]
     },
     "execution_count": 38,
     "metadata": {},
     "output_type": "execute_result"
    }
   ],
   "source": [
    "# This just makes sure we got the right button\n",
    "html = button.get_attribute('outerHTML')\n",
    "html"
   ]
  },
  {
   "cell_type": "code",
   "execution_count": 39,
   "metadata": {},
   "outputs": [],
   "source": [
    "button = driver.find_element_by_name(\"institutionType\")"
   ]
  },
  {
   "cell_type": "code",
   "execution_count": 40,
   "metadata": {},
   "outputs": [
    {
     "data": {
      "text/plain": [
       "<selenium.webdriver.firefox.webelement.FirefoxWebElement (session=\"0423d527-cdf7-3e44-ac6f-62b84884ceea\", element=\"60120916-f434-a245-9f71-63fd65e41dfd\")>"
      ]
     },
     "execution_count": 40,
     "metadata": {},
     "output_type": "execute_result"
    }
   ],
   "source": [
    "button"
   ]
  },
  {
   "cell_type": "code",
   "execution_count": 41,
   "metadata": {},
   "outputs": [],
   "source": [
    "allOptions = button.find_elements_by_tag_name(\"option\")\n",
    "for option in allOptions:\n",
    "    value = option.get_attribute(\"value\")\n",
    "    if value == '1':\n",
    "        option.click()\n",
    "        break"
   ]
  },
  {
   "cell_type": "code",
   "execution_count": 42,
   "metadata": {},
   "outputs": [
    {
     "data": {
      "text/plain": [
       "<selenium.webdriver.firefox.webelement.FirefoxWebElement (session=\"0423d527-cdf7-3e44-ac6f-62b84884ceea\", element=\"87a9583d-0c55-7a41-8c6f-b76821585437\")>"
      ]
     },
     "execution_count": 42,
     "metadata": {},
     "output_type": "execute_result"
    }
   ],
   "source": [
    "button = driver.find_element_by_name(\"states\")\n",
    "button"
   ]
  },
  {
   "cell_type": "code",
   "execution_count": 43,
   "metadata": {},
   "outputs": [],
   "source": [
    "allOptions = button.find_elements_by_tag_name(\"option\")\n",
    "for option in allOptions:\n",
    "    value = option.get_attribute(\"value\")\n",
    "    if value == 'WA':\n",
    "        option.click()\n",
    "        break"
   ]
  },
  {
   "cell_type": "code",
   "execution_count": 44,
   "metadata": {},
   "outputs": [],
   "source": [
    "\n",
    "buttons = driver.find_elements_by_tag_name('input')"
   ]
  },
  {
   "cell_type": "code",
   "execution_count": 45,
   "metadata": {},
   "outputs": [
    {
     "data": {
      "text/plain": [
       "106"
      ]
     },
     "execution_count": 45,
     "metadata": {},
     "output_type": "execute_result"
    }
   ],
   "source": [
    "len(buttons)"
   ]
  },
  {
   "cell_type": "code",
   "execution_count": 46,
   "metadata": {},
   "outputs": [
    {
     "data": {
      "text/plain": [
       "'<input type=\"image\" name=\"\" src=\"/cs/page/images/buttons/find.gif\" onclick=\"preferenceButton()\" title=\"FIND\" alt=\"FIND\">'"
      ]
     },
     "execution_count": 46,
     "metadata": {},
     "output_type": "execute_result"
    }
   ],
   "source": [
    "# We're searching for a button that doesn't have a name set\n",
    "# there are two find.gif buttons on the page and they each do \n",
    "# different things\n",
    "for b in buttons:\n",
    "    html = b.get_attribute('outerHTML')\n",
    "    idx = html.find('find.gif')\n",
    "    if idx != -1:\n",
    "        idx = html.find('checkCollegeName')\n",
    "        if idx == -1:\n",
    "            break\n",
    "html"
   ]
  },
  {
   "cell_type": "code",
   "execution_count": 47,
   "metadata": {},
   "outputs": [],
   "source": [
    "button = b \n",
    "button.click()"
   ]
  },
  {
   "cell_type": "code",
   "execution_count": 48,
   "metadata": {},
   "outputs": [],
   "source": [
    "df = pd.read_html(driver.page_source)"
   ]
  },
  {
   "cell_type": "code",
   "execution_count": 49,
   "metadata": {},
   "outputs": [
    {
     "data": {
      "text/plain": [
       "5"
      ]
     },
     "execution_count": 49,
     "metadata": {},
     "output_type": "execute_result"
    }
   ],
   "source": [
    "len(df)"
   ]
  },
  {
   "cell_type": "code",
   "execution_count": 50,
   "metadata": {},
   "outputs": [
    {
     "name": "stdout",
     "output_type": "stream",
     "text": [
      "                   0       1\n",
      "0             State:      WA\n",
      "1  Institution Type:  Public\n",
      "2                NaN     NaN\n",
      "   Your College Chances                                       College Name\n",
      "0                   NaN  Central Washington University OverviewAdmissio...\n",
      "1                   NaN  Eastern Washington University OverviewAdmissio...\n",
      "2                   NaN  Evergreen State College OverviewAdmissionMoney...\n",
      "           City   State        Size Gender Mix Entr.Diff.        Cost  \\\n",
      "  Your NetPrice Res.COA Non-Res.COA    NeedMet   MeritAid StudentDebt   \n",
      "0    Ellensburg      WA     11047.0       Coed        Mod         NaN   \n",
      "1        Cheney      WA     11473.0       Coed        NaN         NaN   \n",
      "2       Olympia      WA      3610.0       Coed        Mod         NaN   \n",
      "\n",
      "  Financial Friendliness  Outcomes        Type Student Background  \\\n",
      "            Fresh.Satis. Grad.Rate Amer.Indian       AfricanAmer.   \n",
      "0                $22,547   $36,654         81%                22%   \n",
      "1                $22,142   $38,895         86%                32%   \n",
      "2                $21,207   $38,667         57%                 4%   \n",
      "\n",
      "  Unnamed: 10_level_0 Unnamed: 11_level_0 Unnamed: 12_level_0  \\\n",
      "       Asian/Pac. Is.             Hispan.              Int'l.   \n",
      "0             $20,411               76.0%               27.0%   \n",
      "1             $27,961               75.8%               25.1%   \n",
      "2             $21,147               61.0%               42.2%   \n",
      "\n",
      "  Unnamed: 13_level_0 Unnamed: 14_level_0 Unnamed: 15_level_0  \\\n",
      "  Unnamed: 13_level_1 Unnamed: 14_level_1 Unnamed: 15_level_1   \n",
      "0                 Pub                0.7%                3.8%   \n",
      "1                 Pub                1.2%                3.6%   \n",
      "2                 Pub                2.5%                4.9%   \n",
      "\n",
      "  Unnamed: 16_level_0 Unnamed: 17_level_0 Unnamed: 18_level_0  \n",
      "  Unnamed: 16_level_1 Unnamed: 17_level_1 Unnamed: 18_level_1  \n",
      "0                4.6%               15.0%                2.9%  \n",
      "1                3.4%               16.6%                4.5%  \n",
      "2                3.2%               10.9%                0.6%  \n",
      "    0                                                  1\n",
      "0 NaN  Good Bet Many students with qualifications sim...\n",
      "1 NaN  Maybe Some students with qualifications simila...\n",
      "2 NaN  Reach Some students with qualifications simila...\n",
      "                      0                                                  1\n",
      "0        Most Difficult  More than 75% of freshmen were in the top 10% ...\n",
      "1        Very Difficult  More than 50% of freshmen were in the top 10% ...\n",
      "2  Moderately Difficult  More than 75% of freshmen were in the top 50% ...\n"
     ]
    }
   ],
   "source": [
    "for d in df:\n",
    "    print(d.head(3))"
   ]
  },
  {
   "cell_type": "code",
   "execution_count": 51,
   "metadata": {},
   "outputs": [
    {
     "data": {
      "text/plain": [
       "'Central Washington University OverviewAdmissionMoney MattersAcademicsCampus LifeStudents'"
      ]
     },
     "execution_count": 51,
     "metadata": {},
     "output_type": "execute_result"
    }
   ],
   "source": [
    "df[1].loc[0,\"College Name\"]"
   ]
  },
  {
   "cell_type": "code",
   "execution_count": 52,
   "metadata": {},
   "outputs": [
    {
     "data": {
      "text/plain": [
       "29"
      ]
     },
     "execution_count": 52,
     "metadata": {},
     "output_type": "execute_result"
    }
   ],
   "source": [
    "# pandas confused the button text and the drop down text, need to \n",
    "# strip from <space>Overview to end of string\n",
    "name = df[1].loc[0,\"College Name\"]\n",
    "idx = name.find(' Overview')\n",
    "idx"
   ]
  },
  {
   "cell_type": "code",
   "execution_count": 53,
   "metadata": {},
   "outputs": [
    {
     "data": {
      "text/plain": [
       "'Central Washington University'"
      ]
     },
     "execution_count": 53,
     "metadata": {},
     "output_type": "execute_result"
    }
   ],
   "source": [
    "name = name[:idx]\n",
    "name"
   ]
  },
  {
   "cell_type": "code",
   "execution_count": 54,
   "metadata": {},
   "outputs": [
    {
     "data": {
      "text/plain": [
       "<selenium.webdriver.firefox.webelement.FirefoxWebElement (session=\"0423d527-cdf7-3e44-ac6f-62b84884ceea\", element=\"ddf3b091-2df7-9b40-ba03-23d035be2d81\")>"
      ]
     },
     "execution_count": 54,
     "metadata": {},
     "output_type": "execute_result"
    }
   ],
   "source": [
    "thing = driver.find_element_by_link_text(name)\n",
    "thing"
   ]
  },
  {
   "cell_type": "code",
   "execution_count": 55,
   "metadata": {},
   "outputs": [
    {
     "data": {
      "text/plain": [
       "'<a href=\"https://www.collegedata.com/cs/data/college/college_pg01_tmpl.jhtml?schoolId=929\" onclick=\"setCookie(\\'previousPageSection\\',\\'page_collegeMatch\\');\" class=\"collegelink\">Central Washington University<img src=\"/cs/page/images/icon/arrow_down.gif\" class=\"dropDownIcon\"></a>'"
      ]
     },
     "execution_count": 55,
     "metadata": {},
     "output_type": "execute_result"
    }
   ],
   "source": [
    "thing.get_attribute('outerHTML')"
   ]
  },
  {
   "cell_type": "code",
   "execution_count": 56,
   "metadata": {},
   "outputs": [
    {
     "data": {
      "text/plain": [
       "'https://www.collegedata.com/cs/data/college/college_pg01_tmpl.jhtml?schoolId=929'"
      ]
     },
     "execution_count": 56,
     "metadata": {},
     "output_type": "execute_result"
    }
   ],
   "source": [
    "href = thing.get_attribute('href')\n",
    "href"
   ]
  },
  {
   "cell_type": "code",
   "execution_count": 57,
   "metadata": {},
   "outputs": [
    {
     "data": {
      "text/plain": [
       "'https://www.collegedata.com/cs/data/college/college_pg03_tmpl.jhtml?schoolId=929'"
      ]
     },
     "execution_count": 57,
     "metadata": {},
     "output_type": "execute_result"
    }
   ],
   "source": [
    "money_page = href.replace('pg01_tmpl', 'pg03_tmpl')\n",
    "money_page"
   ]
  },
  {
   "cell_type": "code",
   "execution_count": 58,
   "metadata": {},
   "outputs": [],
   "source": [
    "driver.get(money_page)"
   ]
  },
  {
   "cell_type": "code",
   "execution_count": 59,
   "metadata": {},
   "outputs": [
    {
     "data": {
      "text/plain": [
       "13"
      ]
     },
     "execution_count": 59,
     "metadata": {},
     "output_type": "execute_result"
    }
   ],
   "source": [
    "money_data = pd.read_html(driver.page_source)\n",
    "len(money_data)"
   ]
  },
  {
   "cell_type": "code",
   "execution_count": 60,
   "metadata": {},
   "outputs": [
    {
     "name": "stdout",
     "output_type": "stream",
     "text": [
      "                    0                                       1    2    3    4\n",
      "0  Cost of Attendance  In-state: $22,547Out-of-state: $36,654  NaN  NaN  NaN\n",
      "1    Tuition and Fees   In-state: $7,849Out-of-state: $21,956  NaN  NaN  NaN\n",
      "          0                       1    2    3    4\n",
      "0    E-mail                     NaN  NaN  NaN  NaN\n",
      "1  Web Site  Financial Aid Web Site  NaN  NaN  NaN\n",
      "                      0                                      1    2    3    4\n",
      "0  Application Deadline           Priority deadline February 1  NaN  NaN  NaN\n",
      "1    Award Notification  On a rolling basis beginning March 15  NaN  NaN  NaN\n",
      "         Forms Required Cost to File Unnamed: 2 Unnamed: 3 Unnamed: 4\n",
      "0  FAFSA Code is 003771         Free        NaN        NaN        NaN\n",
      "1                     ?            ?          ?          ?          ?\n",
      "                              0                            1    2    3    4\n",
      "0      Financial Aid Applicants    1,724 (91.1%) of freshmen  NaN  NaN  NaN\n",
      "1  Found to Have Financial Need  1,452 (84.2%) of applicants  NaN  NaN  NaN\n",
      "                              0                                1    2    3  \\\n",
      "0      Financial Aid Applicants  8,638 (82.0%) of undergraduates  NaN  NaN   \n",
      "1  Found to Have Financial Need      6,933 (80.3%) of applicants  NaN  NaN   \n",
      "\n",
      "     4  \n",
      "0  NaN  \n",
      "1  NaN  \n",
      "                                       0        1    2    3    4\n",
      "0       2016 Graduates WhoTook Out Loans      84%  NaN  NaN  NaN\n",
      "1  Average Indebtedness of2016 Graduates  $20,411  NaN  NaN  NaN\n",
      "               0                                                  1    2    3  \\\n",
      "0  Federal Loans  Direct subsidized Stafford loans, direct unsub...  NaN  NaN   \n",
      "1    State Loans                                                NaN  NaN  NaN   \n",
      "\n",
      "     4  \n",
      "0  NaN  \n",
      "1  NaN  \n",
      "                          0  \\\n",
      "0      Need-Based Available   \n",
      "1  Non-Need–Based Available   \n",
      "\n",
      "                                                   1    2    3    4  \n",
      "0  Federal Pell grants, SEOG, State scholarships,...  NaN  NaN  NaN  \n",
      "1                                               None  NaN  NaN  NaN  \n",
      "                                          0             1    2    3    4\n",
      "0  Academic Interest/AchievementAward Areas  Not reported  NaN  NaN  NaN\n",
      "1                          Number of Awards  Not reported  NaN  NaN  NaN\n",
      "                                           0  \\\n",
      "0                        Work-Study Programs   \n",
      "1  Average Earnings fromOn-Campus Employment   \n",
      "\n",
      "                                                   1    2    3    4  \n",
      "0  Federal work study available, other work study...  NaN  NaN  NaN  \n",
      "1                                       Not reported  NaN  NaN  NaN  \n",
      "  Unnamed: 0_level_0   GPA   SAT  ACT Unnamed: 4_level_0 Unnamed: 5_level_0\n",
      "                  UW     W     M  ERW Unnamed: 4_level_1 Unnamed: 5_level_1\n",
      "0            Average  3.16  3.26  553                598                 24\n",
      "1                Low  2.00  2.50  420                420                 17\n",
      "   0  1  2  3  4\n",
      "0  ?  ?  ?  ?  ?\n"
     ]
    }
   ],
   "source": [
    "for mdf in money_data:\n",
    "    print(mdf.head(2))"
   ]
  },
  {
   "cell_type": "code",
   "execution_count": 62,
   "metadata": {},
   "outputs": [
    {
     "name": "stdout",
     "output_type": "stream",
     "text": [
      "                                       0             1    2    3    4\n",
      "0       2016 Graduates WhoTook Out Loans           84%  NaN  NaN  NaN\n",
      "1  Average Indebtedness of2016 Graduates       $20,411  NaN  NaN  NaN\n",
      "2           Parents Borrowing PLUS Loans           NaN  NaN  NaN  NaN\n",
      "3       Parents of StudentsReceiving Aid  Not reported  NaN  NaN  NaN\n",
      "4   Parents of Students NotReceiving Aid  Not reported  NaN  NaN  NaN\n",
      "5                                      ?             ?    ?    ?    ?\n"
     ]
    }
   ],
   "source": [
    "print(money_data[6])"
   ]
  },
  {
   "cell_type": "code",
   "execution_count": 63,
   "metadata": {},
   "outputs": [],
   "source": [
    "driver.close()"
   ]
  },
  {
   "cell_type": "code",
   "execution_count": 71,
   "metadata": {},
   "outputs": [
    {
     "data": {
      "text/html": [
       "<div>\n",
       "<style scoped>\n",
       "    .dataframe tbody tr th:only-of-type {\n",
       "        vertical-align: middle;\n",
       "    }\n",
       "\n",
       "    .dataframe tbody tr th {\n",
       "        vertical-align: top;\n",
       "    }\n",
       "\n",
       "    .dataframe thead th {\n",
       "        text-align: right;\n",
       "    }\n",
       "</style>\n",
       "<table border=\"1\" class=\"dataframe\">\n",
       "  <thead>\n",
       "    <tr style=\"text-align: right;\">\n",
       "      <th></th>\n",
       "      <th>Your NetPrice</th>\n",
       "    </tr>\n",
       "  </thead>\n",
       "  <tbody>\n",
       "    <tr>\n",
       "      <th>0</th>\n",
       "      <td>Ellensburg</td>\n",
       "    </tr>\n",
       "    <tr>\n",
       "      <th>1</th>\n",
       "      <td>Cheney</td>\n",
       "    </tr>\n",
       "    <tr>\n",
       "      <th>2</th>\n",
       "      <td>Olympia</td>\n",
       "    </tr>\n",
       "    <tr>\n",
       "      <th>3</th>\n",
       "      <td>Seattle</td>\n",
       "    </tr>\n",
       "    <tr>\n",
       "      <th>4</th>\n",
       "      <td>Bothell</td>\n",
       "    </tr>\n",
       "    <tr>\n",
       "      <th>5</th>\n",
       "      <td>Tacoma</td>\n",
       "    </tr>\n",
       "    <tr>\n",
       "      <th>6</th>\n",
       "      <td>Pullman</td>\n",
       "    </tr>\n",
       "    <tr>\n",
       "      <th>7</th>\n",
       "      <td>Bellingham</td>\n",
       "    </tr>\n",
       "  </tbody>\n",
       "</table>\n",
       "</div>"
      ],
      "text/plain": [
       "  Your NetPrice\n",
       "0    Ellensburg\n",
       "1        Cheney\n",
       "2       Olympia\n",
       "3       Seattle\n",
       "4       Bothell\n",
       "5        Tacoma\n",
       "6       Pullman\n",
       "7    Bellingham"
      ]
     },
     "execution_count": 71,
     "metadata": {},
     "output_type": "execute_result"
    }
   ],
   "source": [
    "city = df[2]['City'].dropna()\n",
    "city"
   ]
  },
  {
   "cell_type": "code",
   "execution_count": 72,
   "metadata": {},
   "outputs": [
    {
     "data": {
      "text/html": [
       "<div>\n",
       "<style scoped>\n",
       "    .dataframe tbody tr th:only-of-type {\n",
       "        vertical-align: middle;\n",
       "    }\n",
       "\n",
       "    .dataframe tbody tr th {\n",
       "        vertical-align: top;\n",
       "    }\n",
       "\n",
       "    .dataframe thead th {\n",
       "        text-align: right;\n",
       "    }\n",
       "</style>\n",
       "<table border=\"1\" class=\"dataframe\">\n",
       "  <thead>\n",
       "    <tr style=\"text-align: right;\">\n",
       "      <th></th>\n",
       "      <th>Your NetPrice</th>\n",
       "    </tr>\n",
       "  </thead>\n",
       "  <tbody>\n",
       "    <tr>\n",
       "      <th>0</th>\n",
       "      <td>ELLENSBURG</td>\n",
       "    </tr>\n",
       "    <tr>\n",
       "      <th>1</th>\n",
       "      <td>CHENEY</td>\n",
       "    </tr>\n",
       "    <tr>\n",
       "      <th>2</th>\n",
       "      <td>OLYMPIA</td>\n",
       "    </tr>\n",
       "    <tr>\n",
       "      <th>3</th>\n",
       "      <td>SEATTLE</td>\n",
       "    </tr>\n",
       "    <tr>\n",
       "      <th>4</th>\n",
       "      <td>BOTHELL</td>\n",
       "    </tr>\n",
       "    <tr>\n",
       "      <th>5</th>\n",
       "      <td>TACOMA</td>\n",
       "    </tr>\n",
       "    <tr>\n",
       "      <th>6</th>\n",
       "      <td>PULLMAN</td>\n",
       "    </tr>\n",
       "    <tr>\n",
       "      <th>7</th>\n",
       "      <td>BELLINGHAM</td>\n",
       "    </tr>\n",
       "  </tbody>\n",
       "</table>\n",
       "</div>"
      ],
      "text/plain": [
       "  Your NetPrice\n",
       "0    ELLENSBURG\n",
       "1        CHENEY\n",
       "2       OLYMPIA\n",
       "3       SEATTLE\n",
       "4       BOTHELL\n",
       "5        TACOMA\n",
       "6       PULLMAN\n",
       "7    BELLINGHAM"
      ]
     },
     "execution_count": 72,
     "metadata": {},
     "output_type": "execute_result"
    }
   ],
   "source": [
    "city.applymap(str.upper)"
   ]
  },
  {
   "cell_type": "code",
   "execution_count": 73,
   "metadata": {},
   "outputs": [
    {
     "data": {
      "text/plain": [
       "pandas.core.frame.DataFrame"
      ]
     },
     "execution_count": 73,
     "metadata": {},
     "output_type": "execute_result"
    }
   ],
   "source": [
    "type(city)"
   ]
  },
  {
   "cell_type": "code",
   "execution_count": 75,
   "metadata": {},
   "outputs": [
    {
     "data": {
      "text/html": [
       "<div>\n",
       "<style scoped>\n",
       "    .dataframe tbody tr th:only-of-type {\n",
       "        vertical-align: middle;\n",
       "    }\n",
       "\n",
       "    .dataframe tbody tr th {\n",
       "        vertical-align: top;\n",
       "    }\n",
       "\n",
       "    .dataframe thead tr th {\n",
       "        text-align: left;\n",
       "    }\n",
       "</style>\n",
       "<table border=\"1\" class=\"dataframe\">\n",
       "  <thead>\n",
       "    <tr>\n",
       "      <th></th>\n",
       "      <th>City</th>\n",
       "      <th>State</th>\n",
       "      <th>Size</th>\n",
       "      <th>Gender Mix</th>\n",
       "      <th>Entr.Diff.</th>\n",
       "      <th>Cost</th>\n",
       "      <th>Financial Friendliness</th>\n",
       "      <th>Outcomes</th>\n",
       "      <th>Type</th>\n",
       "      <th>Student Background</th>\n",
       "      <th>Unnamed: 10_level_0</th>\n",
       "      <th>Unnamed: 11_level_0</th>\n",
       "      <th>Unnamed: 12_level_0</th>\n",
       "      <th>Unnamed: 13_level_0</th>\n",
       "      <th>Unnamed: 14_level_0</th>\n",
       "      <th>Unnamed: 15_level_0</th>\n",
       "      <th>Unnamed: 16_level_0</th>\n",
       "      <th>Unnamed: 17_level_0</th>\n",
       "      <th>Unnamed: 18_level_0</th>\n",
       "    </tr>\n",
       "    <tr>\n",
       "      <th></th>\n",
       "      <th>Your NetPrice</th>\n",
       "      <th>Res.COA</th>\n",
       "      <th>Non-Res.COA</th>\n",
       "      <th>NeedMet</th>\n",
       "      <th>MeritAid</th>\n",
       "      <th>StudentDebt</th>\n",
       "      <th>Fresh.Satis.</th>\n",
       "      <th>Grad.Rate</th>\n",
       "      <th>Amer.Indian</th>\n",
       "      <th>AfricanAmer.</th>\n",
       "      <th>Asian/Pac. Is.</th>\n",
       "      <th>Hispan.</th>\n",
       "      <th>Int'l.</th>\n",
       "      <th>Unnamed: 13_level_1</th>\n",
       "      <th>Unnamed: 14_level_1</th>\n",
       "      <th>Unnamed: 15_level_1</th>\n",
       "      <th>Unnamed: 16_level_1</th>\n",
       "      <th>Unnamed: 17_level_1</th>\n",
       "      <th>Unnamed: 18_level_1</th>\n",
       "    </tr>\n",
       "  </thead>\n",
       "  <tbody>\n",
       "    <tr>\n",
       "      <th>0</th>\n",
       "      <td>Ellensburg</td>\n",
       "      <td>WA</td>\n",
       "      <td>11047.0</td>\n",
       "      <td>Coed</td>\n",
       "      <td>Mod</td>\n",
       "      <td>NaN</td>\n",
       "      <td>$22,547</td>\n",
       "      <td>$36,654</td>\n",
       "      <td>81%</td>\n",
       "      <td>22%</td>\n",
       "      <td>$20,411</td>\n",
       "      <td>76.0%</td>\n",
       "      <td>27.0%</td>\n",
       "      <td>Pub</td>\n",
       "      <td>0.7%</td>\n",
       "      <td>3.8%</td>\n",
       "      <td>4.6%</td>\n",
       "      <td>15.0%</td>\n",
       "      <td>2.9%</td>\n",
       "    </tr>\n",
       "    <tr>\n",
       "      <th>1</th>\n",
       "      <td>Cheney</td>\n",
       "      <td>WA</td>\n",
       "      <td>11473.0</td>\n",
       "      <td>Coed</td>\n",
       "      <td>NaN</td>\n",
       "      <td>NaN</td>\n",
       "      <td>$22,142</td>\n",
       "      <td>$38,895</td>\n",
       "      <td>86%</td>\n",
       "      <td>32%</td>\n",
       "      <td>$27,961</td>\n",
       "      <td>75.8%</td>\n",
       "      <td>25.1%</td>\n",
       "      <td>Pub</td>\n",
       "      <td>1.2%</td>\n",
       "      <td>3.6%</td>\n",
       "      <td>3.4%</td>\n",
       "      <td>16.6%</td>\n",
       "      <td>4.5%</td>\n",
       "    </tr>\n",
       "    <tr>\n",
       "      <th>2</th>\n",
       "      <td>Olympia</td>\n",
       "      <td>WA</td>\n",
       "      <td>3610.0</td>\n",
       "      <td>Coed</td>\n",
       "      <td>Mod</td>\n",
       "      <td>NaN</td>\n",
       "      <td>$21,207</td>\n",
       "      <td>$38,667</td>\n",
       "      <td>57%</td>\n",
       "      <td>4%</td>\n",
       "      <td>$21,147</td>\n",
       "      <td>61.0%</td>\n",
       "      <td>42.2%</td>\n",
       "      <td>Pub</td>\n",
       "      <td>2.5%</td>\n",
       "      <td>4.9%</td>\n",
       "      <td>3.2%</td>\n",
       "      <td>10.9%</td>\n",
       "      <td>0.6%</td>\n",
       "    </tr>\n",
       "    <tr>\n",
       "      <th>3</th>\n",
       "      <td>Seattle</td>\n",
       "      <td>WA</td>\n",
       "      <td>31331.0</td>\n",
       "      <td>Coed</td>\n",
       "      <td>Very</td>\n",
       "      <td>NaN</td>\n",
       "      <td>$25,948</td>\n",
       "      <td>$49,986</td>\n",
       "      <td>79%</td>\n",
       "      <td>20%</td>\n",
       "      <td>$19,880</td>\n",
       "      <td>94.0%</td>\n",
       "      <td>65.0%</td>\n",
       "      <td>Pub</td>\n",
       "      <td>0.5%</td>\n",
       "      <td>3.5%</td>\n",
       "      <td>28.8%</td>\n",
       "      <td>9.2%</td>\n",
       "      <td>14.6%</td>\n",
       "    </tr>\n",
       "    <tr>\n",
       "      <th>4</th>\n",
       "      <td>Bothell</td>\n",
       "      <td>WA</td>\n",
       "      <td>5365.0</td>\n",
       "      <td>Coed</td>\n",
       "      <td>Mod</td>\n",
       "      <td>NaN</td>\n",
       "      <td>$26,137</td>\n",
       "      <td>$50,175</td>\n",
       "      <td>78%</td>\n",
       "      <td>5%</td>\n",
       "      <td>$18,850</td>\n",
       "      <td>88.0%</td>\n",
       "      <td>42.9%</td>\n",
       "      <td>Pub</td>\n",
       "      <td>0.3%</td>\n",
       "      <td>7.1%</td>\n",
       "      <td>30.3%</td>\n",
       "      <td>10.6%</td>\n",
       "      <td>9.3%</td>\n",
       "    </tr>\n",
       "    <tr>\n",
       "      <th>5</th>\n",
       "      <td>Tacoma</td>\n",
       "      <td>WA</td>\n",
       "      <td>4436.0</td>\n",
       "      <td>Coed</td>\n",
       "      <td>Mod</td>\n",
       "      <td>NaN</td>\n",
       "      <td>$25,675</td>\n",
       "      <td>$49,713</td>\n",
       "      <td>79%</td>\n",
       "      <td>17%</td>\n",
       "      <td>$17,480</td>\n",
       "      <td>75.7%</td>\n",
       "      <td>39.7%</td>\n",
       "      <td>Pub</td>\n",
       "      <td>0.8%</td>\n",
       "      <td>8.8%</td>\n",
       "      <td>21.3%</td>\n",
       "      <td>15.5%</td>\n",
       "      <td>4.2%</td>\n",
       "    </tr>\n",
       "    <tr>\n",
       "      <th>6</th>\n",
       "      <td>Pullman</td>\n",
       "      <td>WA</td>\n",
       "      <td>17868.0</td>\n",
       "      <td>Coed</td>\n",
       "      <td>Mod</td>\n",
       "      <td>NaN</td>\n",
       "      <td>$27,249</td>\n",
       "      <td>$41,675</td>\n",
       "      <td>65%</td>\n",
       "      <td>74%</td>\n",
       "      <td>$26,807</td>\n",
       "      <td>81.7%</td>\n",
       "      <td>38.6%</td>\n",
       "      <td>Pub</td>\n",
       "      <td>0.7%</td>\n",
       "      <td>3.9%</td>\n",
       "      <td>7.2%</td>\n",
       "      <td>14.6%</td>\n",
       "      <td>5.5%</td>\n",
       "    </tr>\n",
       "    <tr>\n",
       "      <th>7</th>\n",
       "      <td>Bellingham</td>\n",
       "      <td>WA</td>\n",
       "      <td>14968.0</td>\n",
       "      <td>Coed</td>\n",
       "      <td>Mod</td>\n",
       "      <td>NaN</td>\n",
       "      <td>$23,984</td>\n",
       "      <td>$38,496</td>\n",
       "      <td>94%</td>\n",
       "      <td>6%</td>\n",
       "      <td>$15,663</td>\n",
       "      <td>81.0%</td>\n",
       "      <td>37.6%</td>\n",
       "      <td>Pub</td>\n",
       "      <td>0.4%</td>\n",
       "      <td>1.7%</td>\n",
       "      <td>6.7%</td>\n",
       "      <td>9.1%</td>\n",
       "      <td>1.1%</td>\n",
       "    </tr>\n",
       "    <tr>\n",
       "      <th>8</th>\n",
       "      <td>NaN</td>\n",
       "      <td>NaN</td>\n",
       "      <td>NaN</td>\n",
       "      <td>NaN</td>\n",
       "      <td>NaN</td>\n",
       "      <td>NaN</td>\n",
       "      <td>NaN</td>\n",
       "      <td>NaN</td>\n",
       "      <td>NaN</td>\n",
       "      <td>NaN</td>\n",
       "      <td>NaN</td>\n",
       "      <td>NaN</td>\n",
       "      <td>NaN</td>\n",
       "      <td>NaN</td>\n",
       "      <td>NaN</td>\n",
       "      <td>NaN</td>\n",
       "      <td>NaN</td>\n",
       "      <td>NaN</td>\n",
       "      <td>NaN</td>\n",
       "    </tr>\n",
       "  </tbody>\n",
       "</table>\n",
       "</div>"
      ],
      "text/plain": [
       "           City   State        Size Gender Mix Entr.Diff.        Cost  \\\n",
       "  Your NetPrice Res.COA Non-Res.COA    NeedMet   MeritAid StudentDebt   \n",
       "0    Ellensburg      WA     11047.0       Coed        Mod         NaN   \n",
       "1        Cheney      WA     11473.0       Coed        NaN         NaN   \n",
       "2       Olympia      WA      3610.0       Coed        Mod         NaN   \n",
       "3       Seattle      WA     31331.0       Coed       Very         NaN   \n",
       "4       Bothell      WA      5365.0       Coed        Mod         NaN   \n",
       "5        Tacoma      WA      4436.0       Coed        Mod         NaN   \n",
       "6       Pullman      WA     17868.0       Coed        Mod         NaN   \n",
       "7    Bellingham      WA     14968.0       Coed        Mod         NaN   \n",
       "8           NaN     NaN         NaN        NaN        NaN         NaN   \n",
       "\n",
       "  Financial Friendliness  Outcomes        Type Student Background  \\\n",
       "            Fresh.Satis. Grad.Rate Amer.Indian       AfricanAmer.   \n",
       "0                $22,547   $36,654         81%                22%   \n",
       "1                $22,142   $38,895         86%                32%   \n",
       "2                $21,207   $38,667         57%                 4%   \n",
       "3                $25,948   $49,986         79%                20%   \n",
       "4                $26,137   $50,175         78%                 5%   \n",
       "5                $25,675   $49,713         79%                17%   \n",
       "6                $27,249   $41,675         65%                74%   \n",
       "7                $23,984   $38,496         94%                 6%   \n",
       "8                    NaN       NaN         NaN                NaN   \n",
       "\n",
       "  Unnamed: 10_level_0 Unnamed: 11_level_0 Unnamed: 12_level_0  \\\n",
       "       Asian/Pac. Is.             Hispan.              Int'l.   \n",
       "0             $20,411               76.0%               27.0%   \n",
       "1             $27,961               75.8%               25.1%   \n",
       "2             $21,147               61.0%               42.2%   \n",
       "3             $19,880               94.0%               65.0%   \n",
       "4             $18,850               88.0%               42.9%   \n",
       "5             $17,480               75.7%               39.7%   \n",
       "6             $26,807               81.7%               38.6%   \n",
       "7             $15,663               81.0%               37.6%   \n",
       "8                 NaN                 NaN                 NaN   \n",
       "\n",
       "  Unnamed: 13_level_0 Unnamed: 14_level_0 Unnamed: 15_level_0  \\\n",
       "  Unnamed: 13_level_1 Unnamed: 14_level_1 Unnamed: 15_level_1   \n",
       "0                 Pub                0.7%                3.8%   \n",
       "1                 Pub                1.2%                3.6%   \n",
       "2                 Pub                2.5%                4.9%   \n",
       "3                 Pub                0.5%                3.5%   \n",
       "4                 Pub                0.3%                7.1%   \n",
       "5                 Pub                0.8%                8.8%   \n",
       "6                 Pub                0.7%                3.9%   \n",
       "7                 Pub                0.4%                1.7%   \n",
       "8                 NaN                 NaN                 NaN   \n",
       "\n",
       "  Unnamed: 16_level_0 Unnamed: 17_level_0 Unnamed: 18_level_0  \n",
       "  Unnamed: 16_level_1 Unnamed: 17_level_1 Unnamed: 18_level_1  \n",
       "0                4.6%               15.0%                2.9%  \n",
       "1                3.4%               16.6%                4.5%  \n",
       "2                3.2%               10.9%                0.6%  \n",
       "3               28.8%                9.2%               14.6%  \n",
       "4               30.3%               10.6%                9.3%  \n",
       "5               21.3%               15.5%                4.2%  \n",
       "6                7.2%               14.6%                5.5%  \n",
       "7                6.7%                9.1%                1.1%  \n",
       "8                 NaN                 NaN                 NaN  "
      ]
     },
     "execution_count": 75,
     "metadata": {},
     "output_type": "execute_result"
    }
   ],
   "source": [
    "df[2]"
   ]
  },
  {
   "cell_type": "code",
   "execution_count": 76,
   "metadata": {},
   "outputs": [
    {
     "data": {
      "text/plain": [
       "Your NetPrice    Cheney\n",
       "Name: 1, dtype: object"
      ]
     },
     "execution_count": 76,
     "metadata": {},
     "output_type": "execute_result"
    }
   ],
   "source": [
    "df[2].loc[1,'City']"
   ]
  },
  {
   "cell_type": "code",
   "execution_count": 78,
   "metadata": {},
   "outputs": [
    {
     "data": {
      "text/plain": [
       "MultiIndex(levels=[['City', 'Cost', 'Entr.Diff.', 'Financial Friendliness', 'Gender Mix', 'Outcomes', 'Size', 'State', 'Student Background', 'Type', 'Unnamed: 10_level_0', 'Unnamed: 11_level_0', 'Unnamed: 12_level_0', 'Unnamed: 13_level_0', 'Unnamed: 14_level_0', 'Unnamed: 15_level_0', 'Unnamed: 16_level_0', 'Unnamed: 17_level_0', 'Unnamed: 18_level_0'], ['AfricanAmer.', 'Amer.Indian', 'Asian/Pac. Is.', 'Fresh.Satis.', 'Grad.Rate', 'Hispan.', 'Int'l.', 'MeritAid', 'NeedMet', 'Non-Res.COA', 'Res.COA', 'StudentDebt', 'Unnamed: 13_level_1', 'Unnamed: 14_level_1', 'Unnamed: 15_level_1', 'Unnamed: 16_level_1', 'Unnamed: 17_level_1', 'Unnamed: 18_level_1', 'Your NetPrice']],\n",
       "           labels=[[0, 7, 6, 4, 2, 1, 3, 5, 9, 8, 10, 11, 12, 13, 14, 15, 16, 17, 18], [18, 10, 9, 8, 7, 11, 3, 4, 1, 0, 2, 5, 6, 12, 13, 14, 15, 16, 17]])"
      ]
     },
     "execution_count": 78,
     "metadata": {},
     "output_type": "execute_result"
    }
   ],
   "source": [
    "df[2].columns"
   ]
  },
  {
   "cell_type": "code",
   "execution_count": 80,
   "metadata": {},
   "outputs": [
    {
     "data": {
      "text/plain": [
       "Index(['City', 'State', 'Size', 'Gender Mix', 'Entr.Diff.', 'Cost',\n",
       "       'Financial Friendliness', 'Outcomes', 'Type', 'Student Background',\n",
       "       'Unnamed: 10_level_0', 'Unnamed: 11_level_0', 'Unnamed: 12_level_0',\n",
       "       'Unnamed: 13_level_0', 'Unnamed: 14_level_0', 'Unnamed: 15_level_0',\n",
       "       'Unnamed: 16_level_0', 'Unnamed: 17_level_0', 'Unnamed: 18_level_0'],\n",
       "      dtype='object')"
      ]
     },
     "execution_count": 80,
     "metadata": {},
     "output_type": "execute_result"
    }
   ],
   "source": [
    "df[2].columns.droplevel(1)"
   ]
  },
  {
   "cell_type": "code",
   "execution_count": 81,
   "metadata": {},
   "outputs": [
    {
     "data": {
      "text/html": [
       "<div>\n",
       "<style scoped>\n",
       "    .dataframe tbody tr th:only-of-type {\n",
       "        vertical-align: middle;\n",
       "    }\n",
       "\n",
       "    .dataframe tbody tr th {\n",
       "        vertical-align: top;\n",
       "    }\n",
       "\n",
       "    .dataframe thead th {\n",
       "        text-align: right;\n",
       "    }\n",
       "</style>\n",
       "<table border=\"1\" class=\"dataframe\">\n",
       "  <thead>\n",
       "    <tr style=\"text-align: right;\">\n",
       "      <th></th>\n",
       "      <th>City</th>\n",
       "      <th>State</th>\n",
       "      <th>Size</th>\n",
       "      <th>Gender Mix</th>\n",
       "      <th>Entr.Diff.</th>\n",
       "      <th>Cost</th>\n",
       "      <th>Financial Friendliness</th>\n",
       "      <th>Outcomes</th>\n",
       "      <th>Type</th>\n",
       "      <th>Student Background</th>\n",
       "      <th>Unnamed: 10_level_0</th>\n",
       "      <th>Unnamed: 11_level_0</th>\n",
       "      <th>Unnamed: 12_level_0</th>\n",
       "      <th>Unnamed: 13_level_0</th>\n",
       "      <th>Unnamed: 14_level_0</th>\n",
       "      <th>Unnamed: 15_level_0</th>\n",
       "      <th>Unnamed: 16_level_0</th>\n",
       "      <th>Unnamed: 17_level_0</th>\n",
       "      <th>Unnamed: 18_level_0</th>\n",
       "    </tr>\n",
       "  </thead>\n",
       "  <tbody>\n",
       "    <tr>\n",
       "      <th>0</th>\n",
       "      <td>Ellensburg</td>\n",
       "      <td>WA</td>\n",
       "      <td>11047.0</td>\n",
       "      <td>Coed</td>\n",
       "      <td>Mod</td>\n",
       "      <td>NaN</td>\n",
       "      <td>$22,547</td>\n",
       "      <td>$36,654</td>\n",
       "      <td>81%</td>\n",
       "      <td>22%</td>\n",
       "      <td>$20,411</td>\n",
       "      <td>76.0%</td>\n",
       "      <td>27.0%</td>\n",
       "      <td>Pub</td>\n",
       "      <td>0.7%</td>\n",
       "      <td>3.8%</td>\n",
       "      <td>4.6%</td>\n",
       "      <td>15.0%</td>\n",
       "      <td>2.9%</td>\n",
       "    </tr>\n",
       "    <tr>\n",
       "      <th>1</th>\n",
       "      <td>Cheney</td>\n",
       "      <td>WA</td>\n",
       "      <td>11473.0</td>\n",
       "      <td>Coed</td>\n",
       "      <td>NaN</td>\n",
       "      <td>NaN</td>\n",
       "      <td>$22,142</td>\n",
       "      <td>$38,895</td>\n",
       "      <td>86%</td>\n",
       "      <td>32%</td>\n",
       "      <td>$27,961</td>\n",
       "      <td>75.8%</td>\n",
       "      <td>25.1%</td>\n",
       "      <td>Pub</td>\n",
       "      <td>1.2%</td>\n",
       "      <td>3.6%</td>\n",
       "      <td>3.4%</td>\n",
       "      <td>16.6%</td>\n",
       "      <td>4.5%</td>\n",
       "    </tr>\n",
       "    <tr>\n",
       "      <th>2</th>\n",
       "      <td>Olympia</td>\n",
       "      <td>WA</td>\n",
       "      <td>3610.0</td>\n",
       "      <td>Coed</td>\n",
       "      <td>Mod</td>\n",
       "      <td>NaN</td>\n",
       "      <td>$21,207</td>\n",
       "      <td>$38,667</td>\n",
       "      <td>57%</td>\n",
       "      <td>4%</td>\n",
       "      <td>$21,147</td>\n",
       "      <td>61.0%</td>\n",
       "      <td>42.2%</td>\n",
       "      <td>Pub</td>\n",
       "      <td>2.5%</td>\n",
       "      <td>4.9%</td>\n",
       "      <td>3.2%</td>\n",
       "      <td>10.9%</td>\n",
       "      <td>0.6%</td>\n",
       "    </tr>\n",
       "    <tr>\n",
       "      <th>3</th>\n",
       "      <td>Seattle</td>\n",
       "      <td>WA</td>\n",
       "      <td>31331.0</td>\n",
       "      <td>Coed</td>\n",
       "      <td>Very</td>\n",
       "      <td>NaN</td>\n",
       "      <td>$25,948</td>\n",
       "      <td>$49,986</td>\n",
       "      <td>79%</td>\n",
       "      <td>20%</td>\n",
       "      <td>$19,880</td>\n",
       "      <td>94.0%</td>\n",
       "      <td>65.0%</td>\n",
       "      <td>Pub</td>\n",
       "      <td>0.5%</td>\n",
       "      <td>3.5%</td>\n",
       "      <td>28.8%</td>\n",
       "      <td>9.2%</td>\n",
       "      <td>14.6%</td>\n",
       "    </tr>\n",
       "    <tr>\n",
       "      <th>4</th>\n",
       "      <td>Bothell</td>\n",
       "      <td>WA</td>\n",
       "      <td>5365.0</td>\n",
       "      <td>Coed</td>\n",
       "      <td>Mod</td>\n",
       "      <td>NaN</td>\n",
       "      <td>$26,137</td>\n",
       "      <td>$50,175</td>\n",
       "      <td>78%</td>\n",
       "      <td>5%</td>\n",
       "      <td>$18,850</td>\n",
       "      <td>88.0%</td>\n",
       "      <td>42.9%</td>\n",
       "      <td>Pub</td>\n",
       "      <td>0.3%</td>\n",
       "      <td>7.1%</td>\n",
       "      <td>30.3%</td>\n",
       "      <td>10.6%</td>\n",
       "      <td>9.3%</td>\n",
       "    </tr>\n",
       "  </tbody>\n",
       "</table>\n",
       "</div>"
      ],
      "text/plain": [
       "         City State     Size Gender Mix Entr.Diff.  Cost  \\\n",
       "0  Ellensburg    WA  11047.0       Coed        Mod   NaN   \n",
       "1      Cheney    WA  11473.0       Coed        NaN   NaN   \n",
       "2     Olympia    WA   3610.0       Coed        Mod   NaN   \n",
       "3     Seattle    WA  31331.0       Coed       Very   NaN   \n",
       "4     Bothell    WA   5365.0       Coed        Mod   NaN   \n",
       "\n",
       "  Financial Friendliness Outcomes Type Student Background Unnamed: 10_level_0  \\\n",
       "0                $22,547  $36,654  81%                22%             $20,411   \n",
       "1                $22,142  $38,895  86%                32%             $27,961   \n",
       "2                $21,207  $38,667  57%                 4%             $21,147   \n",
       "3                $25,948  $49,986  79%                20%             $19,880   \n",
       "4                $26,137  $50,175  78%                 5%             $18,850   \n",
       "\n",
       "  Unnamed: 11_level_0 Unnamed: 12_level_0 Unnamed: 13_level_0  \\\n",
       "0               76.0%               27.0%                 Pub   \n",
       "1               75.8%               25.1%                 Pub   \n",
       "2               61.0%               42.2%                 Pub   \n",
       "3               94.0%               65.0%                 Pub   \n",
       "4               88.0%               42.9%                 Pub   \n",
       "\n",
       "  Unnamed: 14_level_0 Unnamed: 15_level_0 Unnamed: 16_level_0  \\\n",
       "0                0.7%                3.8%                4.6%   \n",
       "1                1.2%                3.6%                3.4%   \n",
       "2                2.5%                4.9%                3.2%   \n",
       "3                0.5%                3.5%               28.8%   \n",
       "4                0.3%                7.1%               30.3%   \n",
       "\n",
       "  Unnamed: 17_level_0 Unnamed: 18_level_0  \n",
       "0               15.0%                2.9%  \n",
       "1               16.6%                4.5%  \n",
       "2               10.9%                0.6%  \n",
       "3                9.2%               14.6%  \n",
       "4               10.6%                9.3%  "
      ]
     },
     "execution_count": 81,
     "metadata": {},
     "output_type": "execute_result"
    }
   ],
   "source": [
    "df[2].columns = df[2].columns.droplevel(1)\n",
    "df[2].head()"
   ]
  },
  {
   "cell_type": "code",
   "execution_count": null,
   "metadata": {},
   "outputs": [],
   "source": []
  }
 ],
 "metadata": {
  "kernelspec": {
   "display_name": "Python 3",
   "language": "python",
   "name": "python3"
  },
  "language_info": {
   "codemirror_mode": {
    "name": "ipython",
    "version": 3
   },
   "file_extension": ".py",
   "mimetype": "text/x-python",
   "name": "python",
   "nbconvert_exporter": "python",
   "pygments_lexer": "ipython3",
   "version": "3.7.1"
  },
  "toc": {
   "base_numbering": 1,
   "nav_menu": {},
   "number_sections": true,
   "sideBar": true,
   "skip_h1_title": false,
   "title_cell": "Table of Contents",
   "title_sidebar": "Contents",
   "toc_cell": false,
   "toc_position": {},
   "toc_section_display": true,
   "toc_window_display": false
  }
 },
 "nbformat": 4,
 "nbformat_minor": 2
}
