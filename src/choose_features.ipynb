{
 "cells": [
  {
   "cell_type": "markdown",
   "metadata": {},
   "source": [
    "# Scorecard data - Further narrow feature set\n",
    "\n",
    "\n",
    "This file contains work to further narrow the feature set -- got from 200 columns down to about 30 that\n",
    "I played with for contstructing the linear model."
   ]
  },
  {
   "cell_type": "code",
   "execution_count": 1,
   "metadata": {},
   "outputs": [],
   "source": [
    "import numpy as np\n",
    "import pandas as pd\n",
    "import seaborn as sns\n",
    "import matplotlib.pyplot as plt\n",
    "import matplotlib as mpl\n",
    "%matplotlib inline"
   ]
  },
  {
   "cell_type": "markdown",
   "metadata": {},
   "source": [
    "## Read in the first pass scorecard data"
   ]
  },
  {
   "cell_type": "code",
   "execution_count": 2,
   "metadata": {},
   "outputs": [],
   "source": [
    "filedir = \"../data/\"\n",
    "filename =  filedir +  \"MERGED2016_17_subset.pck\" \n",
    "dataframe = pd.read_pickle(filename) "
   ]
  },
  {
   "cell_type": "code",
   "execution_count": 3,
   "metadata": {},
   "outputs": [
    {
     "data": {
      "text/plain": [
       "(1997, 203)"
      ]
     },
     "execution_count": 3,
     "metadata": {},
     "output_type": "execute_result"
    }
   ],
   "source": [
    "dataframe.shape"
   ]
  },
  {
   "cell_type": "markdown",
   "metadata": {},
   "source": [
    "## Read in the data dictionary and define a quick reference function I can use from the console"
   ]
  },
  {
   "cell_type": "code",
   "execution_count": 4,
   "metadata": {},
   "outputs": [],
   "source": [
    "datad = pd.read_excel(\"../data/CollegeScorecardDataDictionary.xlsx\", sheet_name=\"data_dictionary\")\n",
    "datad.columns = datad.columns.str.replace(\" \", \"_\").str.replace(\"-\", \"_\").str.lower()"
   ]
  },
  {
   "cell_type": "code",
   "execution_count": 5,
   "metadata": {},
   "outputs": [],
   "source": [
    "# A way to quickly look up a column meaning while working on this notebook\n",
    "def reference(column):\n",
    "    if type(column) == str:\n",
    "        ref = datad.loc[datad.variable_name == column, :]\n",
    "        ref = ref.iloc[0]\n",
    "        print(ref.variable_name)\n",
    "        print(ref.dev_category, ref.api_data_type, ref.source)\n",
    "        print(ref.name_of_data_element)\n",
    "        print(ref.notes)\n",
    "    else: \n",
    "        # assume it's a list or series\n",
    "        for c in column:\n",
    "            reference(c)\n",
    "            print(\"\")\n",
    "        "
   ]
  },
  {
   "cell_type": "markdown",
   "metadata": {},
   "source": [
    "# Select target column\n",
    "\n",
    "I'm not sure what it is, but I know it came from the NSLDS (National Student Loan Data System).\n",
    "\n",
    "Which columns in my filtered data sets came from the NSLDS? "
   ]
  },
  {
   "cell_type": "code",
   "execution_count": 6,
   "metadata": {},
   "outputs": [],
   "source": [
    "# find the columns that come from NSLDS and are in my data subset\n",
    "nslds = datad.query(\"source == 'NSLDS'\")\n",
    "nslds_vars = nslds.variable_name.dropna()"
   ]
  },
  {
   "cell_type": "code",
   "execution_count": 7,
   "metadata": {},
   "outputs": [],
   "source": [
    "cols = dataframe.columns"
   ]
  },
  {
   "cell_type": "code",
   "execution_count": 8,
   "metadata": {},
   "outputs": [],
   "source": [
    "nslds_cols = cols[ cols.isin(nslds_vars) ]"
   ]
  },
  {
   "cell_type": "code",
   "execution_count": 9,
   "metadata": {},
   "outputs": [
    {
     "data": {
      "text/plain": [
       "Index(['INC_PCT_LO', 'DEP_STAT_PCT_IND', 'DEP_INC_PCT_LO', 'IND_INC_PCT_LO',\n",
       "       'PAR_ED_PCT_1STGEN', 'INC_PCT_M1', 'INC_PCT_M2', 'INC_PCT_H1',\n",
       "       'INC_PCT_H2', 'DEP_INC_PCT_M1', 'DEP_INC_PCT_M2', 'DEP_INC_PCT_H1',\n",
       "       'DEP_INC_PCT_H2', 'IND_INC_PCT_M1', 'IND_INC_PCT_M2', 'IND_INC_PCT_H1',\n",
       "       'IND_INC_PCT_H2', 'PAR_ED_PCT_MS', 'PAR_ED_PCT_HS', 'PAR_ED_PCT_PS',\n",
       "       'APPL_SCH_PCT_GE2', 'APPL_SCH_PCT_GE3', 'APPL_SCH_PCT_GE4',\n",
       "       'APPL_SCH_PCT_GE5', 'DEP_INC_AVG', 'IND_INC_AVG', 'DEBT_MDN',\n",
       "       'GRAD_DEBT_MDN', 'WDRAW_DEBT_MDN', 'LO_INC_DEBT_MDN', 'MD_INC_DEBT_MDN',\n",
       "       'HI_INC_DEBT_MDN', 'DEP_DEBT_MDN', 'IND_DEBT_MDN', 'PELL_DEBT_MDN',\n",
       "       'NOPELL_DEBT_MDN', 'FEMALE_DEBT_MDN', 'MALE_DEBT_MDN',\n",
       "       'FIRSTGEN_DEBT_MDN', 'NOTFIRSTGEN_DEBT_MDN', 'DEBT_N', 'GRAD_DEBT_N',\n",
       "       'WDRAW_DEBT_N', 'LO_INC_DEBT_N', 'MD_INC_DEBT_N', 'HI_INC_DEBT_N',\n",
       "       'DEP_DEBT_N', 'IND_DEBT_N', 'PELL_DEBT_N', 'NOPELL_DEBT_N',\n",
       "       'FEMALE_DEBT_N', 'MALE_DEBT_N', 'FIRSTGEN_DEBT_N', 'NOTFIRSTGEN_DEBT_N',\n",
       "       'GRAD_DEBT_MDN10YR', 'CUML_DEBT_N', 'CUML_DEBT_P90', 'CUML_DEBT_P75',\n",
       "       'CUML_DEBT_P25', 'CUML_DEBT_P10', 'INC_N', 'DEP_INC_N', 'IND_INC_N',\n",
       "       'DEP_STAT_N', 'PAR_ED_N', 'APPL_SCH_N', 'LOAN_EVER', 'PELL_EVER',\n",
       "       'FEMALE', 'MARRIED', 'DEPENDENT', 'VETERAN', 'FIRST_GEN', 'FAMINC',\n",
       "       'MD_FAMINC', 'FAMINC_IND', 'DEBT_MDN_SUPP', 'GRAD_DEBT_MDN_SUPP',\n",
       "       'GRAD_DEBT_MDN10YR_SUPP'],\n",
       "      dtype='object')"
      ]
     },
     "execution_count": 9,
     "metadata": {},
     "output_type": "execute_result"
    }
   ],
   "source": [
    "nslds_cols"
   ]
  },
  {
   "cell_type": "code",
   "execution_count": 10,
   "metadata": {},
   "outputs": [
    {
     "name": "stdout",
     "output_type": "stream",
     "text": [
      "LOAN_EVER\n",
      "aid float NSLDS\n",
      "Share of students who received a federal loan while in school\n",
      "Data element describes the earnings cohort (without exclusions for military and in-school deferments in the measurement year)\n"
     ]
    }
   ],
   "source": [
    "reference(\"LOAN_EVER\")"
   ]
  },
  {
   "cell_type": "code",
   "execution_count": 11,
   "metadata": {},
   "outputs": [
    {
     "name": "stdout",
     "output_type": "stream",
     "text": [
      "DEBT_MDN\n",
      "aid float NSLDS\n",
      "The median original amount of the loan principal upon entering repayment\n",
      "nan\n"
     ]
    }
   ],
   "source": [
    "reference(\"DEBT_MDN\")"
   ]
  },
  {
   "cell_type": "code",
   "execution_count": 12,
   "metadata": {},
   "outputs": [
    {
     "name": "stdout",
     "output_type": "stream",
     "text": [
      "GRAD_DEBT_MDN\n",
      "aid float NSLDS\n",
      "The median debt for students who have completed\n",
      "nan\n"
     ]
    }
   ],
   "source": [
    "reference(\"GRAD_DEBT_MDN\")"
   ]
  },
  {
   "cell_type": "code",
   "execution_count": 13,
   "metadata": {},
   "outputs": [
    {
     "name": "stdout",
     "output_type": "stream",
     "text": [
      "LOAN_EVER        1793\n",
      "DEBT_MDN         1878\n",
      "GRAD_DEBT_MDN    1835\n",
      "dtype: int64\n"
     ]
    }
   ],
   "source": [
    "cols = ['LOAN_EVER', 'DEBT_MDN', 'GRAD_DEBT_MDN']\n",
    "print(dataframe.loc[:,cols].count())"
   ]
  },
  {
   "cell_type": "markdown",
   "metadata": {},
   "source": [
    "I have a few more rows for ```DEBT_MDN``` than ```GRAD_DEBT_MDN```, but I think \n",
    "```GRAD_DEBT_MDN``` is closer to my original problem statement."
   ]
  },
  {
   "cell_type": "code",
   "execution_count": 14,
   "metadata": {},
   "outputs": [
    {
     "name": "stdout",
     "output_type": "stream",
     "text": [
      "(1997, 203)\n",
      "(1835, 203)\n"
     ]
    }
   ],
   "source": [
    "# Drop rows where the GRAD_DEBT_MDN is not known\n",
    "print(dataframe.shape)\n",
    "dataframe.dropna(subset=['GRAD_DEBT_MDN'], inplace=True)\n",
    "print(dataframe.shape)"
   ]
  },
  {
   "cell_type": "markdown",
   "metadata": {},
   "source": [
    "## Choosing features/predictors \n"
   ]
  },
  {
   "cell_type": "code",
   "execution_count": 15,
   "metadata": {},
   "outputs": [],
   "source": [
    "# I start assuming all the columns will be predictors and this function\n",
    "# pops columns off the list as I decide not to use them\n",
    "def pop_predictor(col):\n",
    "    if type(col) == str:\n",
    "        try:\n",
    "            predictors.remove(col)\n",
    "        except ValueError:\n",
    "            pass\n",
    "    else:\n",
    "        for c in col:\n",
    "            pop_predictor(c)\n",
    "        return\n"
   ]
  },
  {
   "cell_type": "code",
   "execution_count": 16,
   "metadata": {},
   "outputs": [],
   "source": [
    "# Initial set of predictors -- based on what wasn't dropped\n",
    "# in the first pass through the data"
   ]
  },
  {
   "cell_type": "code",
   "execution_count": 17,
   "metadata": {},
   "outputs": [],
   "source": [
    "predictors = dataframe.columns"
   ]
  },
  {
   "cell_type": "code",
   "execution_count": 18,
   "metadata": {},
   "outputs": [
    {
     "data": {
      "text/plain": [
       "Index(['UNITID', 'OPEID', 'OPEID6', 'INSTNM', 'CITY', 'STABBR', 'ZIP',\n",
       "       'ACCREDAGENCY', 'INSTURL', 'NPCURL',\n",
       "       ...\n",
       "       'GRADS', 'ACCREDCODE', 'RET_FT4_POOLED', 'RET_PT4_POOLED',\n",
       "       'RET_FT_DEN4_POOLED', 'RET_PT_DEN4_POOLED', 'POOLYRSRET_FT',\n",
       "       'POOLYRSRET_PT', 'RET_FT4_POOLED_SUPP', 'RET_PT4_POOLED_SUPP'],\n",
       "      dtype='object', length=203)"
      ]
     },
     "execution_count": 18,
     "metadata": {},
     "output_type": "execute_result"
    }
   ],
   "source": [
    "predictors"
   ]
  },
  {
   "cell_type": "code",
   "execution_count": 19,
   "metadata": {},
   "outputs": [],
   "source": [
    "# GRAD_DEBT_MDN is my target, and the other DEBT fields are really not fair game\n",
    "# e.g. debt incurred by various subsets of students would just be collinear"
   ]
  },
  {
   "cell_type": "code",
   "execution_count": 20,
   "metadata": {},
   "outputs": [],
   "source": [
    "predictors = [ p for p in predictors if p.find(\"DEBT\") == -1 ]"
   ]
  },
  {
   "cell_type": "code",
   "execution_count": 21,
   "metadata": {},
   "outputs": [
    {
     "data": {
      "text/plain": [
       "166"
      ]
     },
     "execution_count": 21,
     "metadata": {},
     "output_type": "execute_result"
    }
   ],
   "source": [
    "# dropping all other debt columns besides my target variable gets me down to 166 columns\n",
    "len(predictors)"
   ]
  },
  {
   "cell_type": "code",
   "execution_count": 22,
   "metadata": {},
   "outputs": [
    {
     "name": "stdout",
     "output_type": "stream",
     "text": [
      "COSTT4_A\n",
      "cost integer IPEDS\n",
      "Average cost of attendance (academic year institutions)\n",
      "The average annual total cost of attendance, including tuition and fees, books and supplies, and living expenses for all full-time, first-time, degree/certificate-seeking undergraduates who receive Title IV aid. It is calculated from values in the IPEDS Institutional Characteristics and Student Financial Aid components. Separate metrics are calculated for academic-year institutions and program-year institutions. For academic-year institutions, average cost of attendance represents an average of all programs and includes only full-time, first-time, degree/certificate-seeking undergraduates who first enrolled in the fall term. For non-academic-year institutions (program or continuous enrollment), average cost of attendance represents the program with the largest enrollment at the institution, and it includes full-time, first-time, degree/certificate-seeking undergraduates who first enrolled at any time during the academic year. For programs less than 1 year in length (see LProgram), this represents the cost for the full program.\n"
     ]
    }
   ],
   "source": [
    "reference('COSTT4_A')\n"
   ]
  },
  {
   "cell_type": "code",
   "execution_count": 23,
   "metadata": {},
   "outputs": [
    {
     "data": {
      "text/plain": [
       "COSTT4_A          1759\n",
       "NPT4_PUB           653\n",
       "NPT41_PUB          653\n",
       "NPT42_PUB          652\n",
       "NPT43_PUB          650\n",
       "NPT44_PUB          645\n",
       "NPT45_PUB          617\n",
       "NPT4_048_PUB       653\n",
       "NPT4_3075_PUB      652\n",
       "NPT4_75UP_PUB      646\n",
       "NUM4_PUB           653\n",
       "NUM41_PUB          653\n",
       "NUM42_PUB          653\n",
       "NUM43_PUB          653\n",
       "NUM44_PUB          653\n",
       "NUM45_PUB          653\n",
       "NPT4_PRIV         1107\n",
       "NPT41_PRIV        1099\n",
       "NPT42_PRIV        1090\n",
       "NPT43_PRIV        1079\n",
       "NPT44_PRIV        1034\n",
       "NPT45_PRIV        1000\n",
       "NPT4_048_PRIV     1104\n",
       "NPT4_3075_PRIV    1096\n",
       "NPT4_75UP_PRIV    1043\n",
       "NUM4_PRIV         1107\n",
       "NUM41_PRIV        1107\n",
       "NUM42_PRIV        1107\n",
       "NUM43_PRIV        1107\n",
       "NUM44_PRIV        1107\n",
       "NUM45_PRIV        1107\n",
       "dtype: int64"
      ]
     },
     "execution_count": 23,
     "metadata": {},
     "output_type": "execute_result"
    }
   ],
   "source": [
    "costvars = ['COSTT4_A' ]\n",
    "costvars += [ p for p in predictors if p.find(\"_PUB\") != - 1]\n",
    "costvars += [ p for p in predictors if p.find(\"_PRIV\") != - 1]\n",
    "dataframe[costvars].count()"
   ]
  },
  {
   "cell_type": "code",
   "execution_count": 24,
   "metadata": {},
   "outputs": [],
   "source": [
    "# I'm going to keep COSTT4_A which is calculated for both public and private universities and has\n",
    "# the most observations of the cost columns"
   ]
  },
  {
   "cell_type": "code",
   "execution_count": 25,
   "metadata": {},
   "outputs": [],
   "source": [
    "predictors = [ p for p in predictors if p.find(\"_PUB\") == -1 ]\n",
    "predictors = [ p for p in predictors if p.find(\"_PRIV\") == -1 ]"
   ]
  },
  {
   "cell_type": "code",
   "execution_count": 26,
   "metadata": {},
   "outputs": [
    {
     "data": {
      "text/plain": [
       "['SATVR25',\n",
       " 'SATVR75',\n",
       " 'SATMT25',\n",
       " 'SATMT75',\n",
       " 'SATVRMID',\n",
       " 'SATMTMID',\n",
       " 'ACTCM25',\n",
       " 'ACTCM75',\n",
       " 'ACTEN25',\n",
       " 'ACTEN75',\n",
       " 'ACTMT25',\n",
       " 'ACTMT75',\n",
       " 'ACTCMMID',\n",
       " 'ACTENMID',\n",
       " 'ACTMTMID',\n",
       " 'SAT_AVG',\n",
       " 'SAT_AVG_ALL']"
      ]
     },
     "execution_count": 26,
     "metadata": {},
     "output_type": "execute_result"
    }
   ],
   "source": [
    "# too many testing columns -- let's filter down a bit\n",
    "test_cols = [ p for p in predictors if p.find(\"SAT\") == 0 or p.find(\"ACT\") == 0]\n",
    "test_cols"
   ]
  },
  {
   "cell_type": "code",
   "execution_count": 27,
   "metadata": {},
   "outputs": [
    {
     "data": {
      "text/plain": [
       "SATVR25        1178\n",
       "SATVR75        1178\n",
       "SATMT25        1180\n",
       "SATMT75        1180\n",
       "SATVRMID       1178\n",
       "SATMTMID       1180\n",
       "ACTCM25        1220\n",
       "ACTCM75        1220\n",
       "ACTEN25        1130\n",
       "ACTEN75        1130\n",
       "ACTMT25        1131\n",
       "ACTMT75        1131\n",
       "ACTCMMID       1220\n",
       "ACTENMID       1130\n",
       "ACTMTMID       1131\n",
       "SAT_AVG        1243\n",
       "SAT_AVG_ALL    1282\n",
       "dtype: int64"
      ]
     },
     "execution_count": 27,
     "metadata": {},
     "output_type": "execute_result"
    }
   ],
   "source": [
    "dataframe.loc[:, test_cols].count()"
   ]
  },
  {
   "cell_type": "code",
   "execution_count": 28,
   "metadata": {},
   "outputs": [
    {
     "name": "stdout",
     "output_type": "stream",
     "text": [
      "SAT_AVG\n",
      "admissions float IPEDS\n",
      "Average SAT equivalent score of students admitted\n",
      "Shown/used on consumer website.\n",
      "\n",
      "SAT_AVG_ALL\n",
      "admissions float IPEDS\n",
      "Average SAT equivalent score of students admitted for all campuses rolled up to the 6-digit OPE ID\n",
      "Shown/used on consumer website.\n",
      "\n"
     ]
    }
   ],
   "source": [
    "reference(['SAT_AVG', 'SAT_AVG_ALL'])"
   ]
  },
  {
   "cell_type": "code",
   "execution_count": 29,
   "metadata": {},
   "outputs": [],
   "source": [
    "# All of the testing cols are hightly correlated with each other and some further\n",
    "# refinement is needed. For now, keeping the observations with the most rows\n",
    "test_cols.remove('SAT_AVG')\n",
    "test_cols.remove('SAT_AVG_ALL')\n",
    "test_cols.remove('ACTCMMID')\n",
    "pop_predictor(test_cols)"
   ]
  },
  {
   "cell_type": "code",
   "execution_count": 30,
   "metadata": {},
   "outputs": [
    {
     "data": {
      "text/plain": [
       "122"
      ]
     },
     "execution_count": 30,
     "metadata": {},
     "output_type": "execute_result"
    }
   ],
   "source": [
    "len(predictors)"
   ]
  },
  {
   "cell_type": "code",
   "execution_count": 31,
   "metadata": {},
   "outputs": [],
   "source": [
    "# We still have a lot of labels and directory info which we cannot use as predictors\n",
    "labels = ['UNITID', 'OPEID', 'OPEID6', 'INSTNM', 'CITY', 'STABBR', 'ZIP', 'ST_FIPS', 'REGION', 'ALIAS', 'INSTURL', 'NPCURL',\n",
    "         'LATITUDE', 'LONGITUDE']\n",
    "\n",
    "# we still need to remember to write these out for joining with collegedata.com data later\n",
    "save_labels = ['INSTNM', 'CITY', 'STABBR', 'ALIAS', 'INSTURL', 'ZIP'] \n",
    "\n",
    "pop_predictor(labels)"
   ]
  },
  {
   "cell_type": "code",
   "execution_count": 32,
   "metadata": {},
   "outputs": [
    {
     "data": {
      "text/plain": [
       "1779         INC_N\n",
       "1780     DEP_INC_N\n",
       "1781     IND_INC_N\n",
       "1782    DEP_STAT_N\n",
       "1783      PAR_ED_N\n",
       "1784    APPL_SCH_N\n",
       "1846     LOAN_EVER\n",
       "1847     PELL_EVER\n",
       "1848     AGE_ENTRY\n",
       "1851        FEMALE\n",
       "1852       MARRIED\n",
       "1853     DEPENDENT\n",
       "1854       VETERAN\n",
       "1855     FIRST_GEN\n",
       "1856        FAMINC\n",
       "1857     MD_FAMINC\n",
       "1858    FAMINC_IND\n",
       "Name: variable_name, dtype: object"
      ]
     },
     "execution_count": 32,
     "metadata": {},
     "output_type": "execute_result"
    }
   ],
   "source": [
    "# we have a bunch of demographics on the earnings cohort\n",
    "# which doesn't really fit my problem statement since I'm \n",
    "# not looking at earnings after graduation\n",
    "earnings_related = (datad.variable_name.isin(predictors)) & (datad.notes.dropna().str.find(\"earnings cohort\") != -1)\n",
    "earnings_vars = datad.loc[earnings_related, 'variable_name']\n",
    "earnings_vars"
   ]
  },
  {
   "cell_type": "code",
   "execution_count": 33,
   "metadata": {},
   "outputs": [],
   "source": [
    "pop_predictor(earnings_vars)"
   ]
  },
  {
   "cell_type": "code",
   "execution_count": 34,
   "metadata": {},
   "outputs": [
    {
     "data": {
      "text/plain": [
       "1649        INC_PCT_LO\n",
       "1651    IND_INC_PCT_LO\n",
       "1652    DEP_INC_PCT_LO\n",
       "1654        INC_PCT_M1\n",
       "1655        INC_PCT_M2\n",
       "1656        INC_PCT_H1\n",
       "1657        INC_PCT_H2\n",
       "1658    DEP_INC_PCT_M1\n",
       "1659    DEP_INC_PCT_M2\n",
       "1660    DEP_INC_PCT_H1\n",
       "1661    DEP_INC_PCT_H2\n",
       "1662    IND_INC_PCT_M1\n",
       "1663    IND_INC_PCT_M2\n",
       "1664    IND_INC_PCT_H1\n",
       "1665    IND_INC_PCT_H2\n",
       "1673       DEP_INC_AVG\n",
       "1674       IND_INC_AVG\n",
       "Name: variable_name, dtype: object"
      ]
     },
     "execution_count": 34,
     "metadata": {},
     "output_type": "execute_result"
    }
   ],
   "source": [
    "# we have a bunch of information on income levels\n",
    "# which is also overkill as we cannot match a specific\n",
    "# income level to a specific loan amount if the target\n",
    "# variable is just the median loan amount\n",
    "earnings_related = (datad.variable_name.isin(predictors)) & (datad.name_of_data_element.dropna().str.find(\"income\") != -1)\n",
    "earnings_vars = datad.loc[earnings_related, 'variable_name']\n",
    "earnings_vars"
   ]
  },
  {
   "cell_type": "code",
   "execution_count": 35,
   "metadata": {},
   "outputs": [],
   "source": [
    "pop_predictor(earnings_vars)"
   ]
  },
  {
   "cell_type": "code",
   "execution_count": 36,
   "metadata": {},
   "outputs": [],
   "source": [
    "# this column is all ones -- drop it\n",
    "pop_predictor('ICLEVEL')  "
   ]
  },
  {
   "cell_type": "code",
   "execution_count": 37,
   "metadata": {},
   "outputs": [],
   "source": [
    "# More stuff to drop: \n",
    "# ACCRED -- columns related accreditation\n",
    "# PAR_ED_ -- columnns related to students' parents' level of education\n",
    "# APPL_SCH_ -- number of schools applied to\n",
    "# RET_ -- student retention rate\n",
    "# POOLYRSRET_ -- more retention\n",
    "drop_these = [ \"ACCRED\", \"PAR_ED_\", \"APPL_SCH_\", \"RET_\", \"POOLYRSRET\"]\n",
    "for drop in drop_these:\n",
    "    drop_cols = [ p for p in predictors if p.find(drop) == 0 ]\n",
    "    pop_predictor(drop_cols)\n",
    "    "
   ]
  },
  {
   "cell_type": "code",
   "execution_count": 38,
   "metadata": {},
   "outputs": [],
   "source": [
    "# more to drop \n",
    "drop_these = [ 'HCM2', 'MAIN', 'NUMBRANCH',  'DEP_STAT_PCT_IND', # cash monitoring system, main/branch campus, dependency status\n",
    " 'UGDS_MEN', 'UGDS_WOMEN','MENONLY','WOMENONLY', 'T4APPROVALDATE', 'D_PCTPELL_PCTFLOAN', 'UGNONDS', # men/women, school title4 approval date, non-degree seeking\n",
    " 'GRADS', 'PCTFLOAN', 'LOCALE', 'OPENADMP', 'CCBASIC', # graduate students, percent of students taking loans (too collinear with loan amount)\n",
    "       'UGDS_BLACK', 'UGDS_AIAN', 'UGDS_HISP'      ]  # high black enroloment is too collinear with HBCU, american indian with tribal college\n",
    "                                    # hispanic enrollment and hispanic institution also correlated\n",
    "pop_predictor(drop_these)"
   ]
  },
  {
   "cell_type": "code",
   "execution_count": 39,
   "metadata": {},
   "outputs": [
    {
     "data": {
      "text/plain": [
       "['HIGHDEG',\n",
       " 'CONTROL',\n",
       " 'CCUGPROF',\n",
       " 'CCSIZSET',\n",
       " 'HBCU',\n",
       " 'PBI',\n",
       " 'ANNHI',\n",
       " 'TRIBAL',\n",
       " 'AANAPII',\n",
       " 'HSI',\n",
       " 'NANTI',\n",
       " 'RELAFFIL',\n",
       " 'ADM_RATE',\n",
       " 'ADM_RATE_ALL',\n",
       " 'ACTCMMID',\n",
       " 'SAT_AVG',\n",
       " 'SAT_AVG_ALL',\n",
       " 'UGDS',\n",
       " 'UGDS_WHITE',\n",
       " 'UGDS_ASIAN',\n",
       " 'UGDS_NHPI',\n",
       " 'UGDS_2MOR',\n",
       " 'UGDS_NRA',\n",
       " 'UGDS_UNKN',\n",
       " 'PPTUG_EF',\n",
       " 'COSTT4_A',\n",
       " 'TUITIONFEE_IN',\n",
       " 'TUITIONFEE_OUT',\n",
       " 'TUITFTE',\n",
       " 'INEXPFTE',\n",
       " 'AVGFACSAL',\n",
       " 'PFTFAC',\n",
       " 'PCTPELL',\n",
       " 'PFTFTUG1_EF']"
      ]
     },
     "execution_count": 39,
     "metadata": {},
     "output_type": "execute_result"
    }
   ],
   "source": [
    "predictors"
   ]
  },
  {
   "cell_type": "code",
   "execution_count": 40,
   "metadata": {},
   "outputs": [
    {
     "data": {
      "text/plain": [
       "34"
      ]
     },
     "execution_count": 40,
     "metadata": {},
     "output_type": "execute_result"
    }
   ],
   "source": [
    "len(predictors)"
   ]
  },
  {
   "cell_type": "markdown",
   "metadata": {},
   "source": [
    "## checkpoint here! "
   ]
  },
  {
   "cell_type": "code",
   "execution_count": 41,
   "metadata": {},
   "outputs": [],
   "source": [
    "dataframe[predictors + save_labels + ['GRAD_DEBT_MDN']].to_pickle('checkpoint.pkl')"
   ]
  },
  {
   "cell_type": "code",
   "execution_count": 42,
   "metadata": {},
   "outputs": [
    {
     "data": {
      "text/plain": [
       "(1835, 203)"
      ]
     },
     "execution_count": 42,
     "metadata": {},
     "output_type": "execute_result"
    }
   ],
   "source": [
    "dataframe.shape"
   ]
  },
  {
   "cell_type": "code",
   "execution_count": 43,
   "metadata": {},
   "outputs": [],
   "source": [
    "\n",
    "dataframe = pd.read_pickle('checkpoint.pkl')"
   ]
  },
  {
   "cell_type": "code",
   "execution_count": 44,
   "metadata": {},
   "outputs": [
    {
     "data": {
      "text/plain": [
       "(1835, 41)"
      ]
     },
     "execution_count": 44,
     "metadata": {},
     "output_type": "execute_result"
    }
   ],
   "source": [
    "dataframe.shape"
   ]
  },
  {
   "cell_type": "markdown",
   "metadata": {},
   "source": [
    "## cleaning and checking for collinearity"
   ]
  },
  {
   "cell_type": "code",
   "execution_count": 45,
   "metadata": {},
   "outputs": [
    {
     "data": {
      "text/plain": [
       "(1828, 41)"
      ]
     },
     "execution_count": 45,
     "metadata": {},
     "output_type": "execute_result"
    }
   ],
   "source": [
    "# HIGHDEG = less than three shouldn't be there (associates, certificates, and nondegree programs)\n",
    "#         = 3 offers bachelors degrees only\n",
    "#         = 4 offers graduate degrees as well\n",
    "# then let's make this column a more traditional 0/1 categorical flag\n",
    "dataframe = dataframe.query('HIGHDEG >= 3').copy()\n",
    "dataframe.shape"
   ]
  },
  {
   "cell_type": "code",
   "execution_count": 46,
   "metadata": {},
   "outputs": [
    {
     "data": {
      "text/plain": [
       "4    1402\n",
       "3     426\n",
       "Name: HIGHDEG, dtype: int64"
      ]
     },
     "execution_count": 46,
     "metadata": {},
     "output_type": "execute_result"
    }
   ],
   "source": [
    "dataframe.HIGHDEG.value_counts()"
   ]
  },
  {
   "cell_type": "code",
   "execution_count": 47,
   "metadata": {},
   "outputs": [],
   "source": [
    "dataframe['BACH_ONLY'] = dataframe.eval('HIGHDEG == 3').astype(int)\n",
    "dataframe.drop(columns='HIGHDEG', inplace=True)"
   ]
  },
  {
   "cell_type": "code",
   "execution_count": 48,
   "metadata": {},
   "outputs": [
    {
     "data": {
      "text/plain": [
       "0    1402\n",
       "1     426\n",
       "Name: BACH_ONLY, dtype: int64"
      ]
     },
     "execution_count": 48,
     "metadata": {},
     "output_type": "execute_result"
    }
   ],
   "source": [
    "idx = predictors.index('HIGHDEG')\n",
    "predictors[idx] = 'BACH_ONLY'\n",
    "dataframe.BACH_ONLY.value_counts()"
   ]
  },
  {
   "cell_type": "code",
   "execution_count": 49,
   "metadata": {},
   "outputs": [
    {
     "name": "stdout",
     "output_type": "stream",
     "text": [
      "ADM_RATE\n",
      "admissions float IPEDS\n",
      "Admission rate\n",
      "nan\n",
      "\n",
      "ADM_RATE_ALL\n",
      "admissions float IPEDS\n",
      "Admission rate for all campuses rolled up to the 6-digit OPE ID\n",
      "nan\n",
      "\n"
     ]
    }
   ],
   "source": [
    "cols = ['ADM_RATE', 'ADM_RATE_ALL']\n",
    "reference(cols)"
   ]
  },
  {
   "cell_type": "code",
   "execution_count": 50,
   "metadata": {},
   "outputs": [
    {
     "name": "stdout",
     "output_type": "stream",
     "text": [
      "ADM_RATE        1525\n",
      "ADM_RATE_ALL    1560\n",
      "dtype: int64\n"
     ]
    }
   ],
   "source": [
    "print(dataframe[cols].count())"
   ]
  },
  {
   "cell_type": "code",
   "execution_count": 51,
   "metadata": {},
   "outputs": [],
   "source": [
    "# if the local branch admissions rate is not available,\n",
    "# use the system admissions rate as a best guess\n",
    "# then drop ADM_RATE_ALL as too collinear with ADM_RATE\n",
    "dataframe.ADM_RATE = dataframe.ADM_RATE.fillna(value=dataframe.ADM_RATE_ALL)\n",
    "dataframe.drop(columns='ADM_RATE_ALL', inplace=True)\n",
    "\n",
    "pop_predictor('ADM_RATE_ALL')"
   ]
  },
  {
   "cell_type": "code",
   "execution_count": 52,
   "metadata": {},
   "outputs": [],
   "source": [
    "# We can do a smilar thing with collinear colums\n",
    "# SAT_AVG and SAT_AVG_ALL\n",
    "dataframe.SAT_AVG = dataframe.SAT_AVG.fillna(value=dataframe.SAT_AVG_ALL)\n",
    "dataframe.drop(columns='SAT_AVG_ALL', inplace=True)\n",
    "\n",
    "pop_predictor('SAT_AVG_ALL')"
   ]
  },
  {
   "cell_type": "code",
   "execution_count": 53,
   "metadata": {},
   "outputs": [
    {
     "data": {
      "text/html": [
       "<div>\n",
       "<style scoped>\n",
       "    .dataframe tbody tr th:only-of-type {\n",
       "        vertical-align: middle;\n",
       "    }\n",
       "\n",
       "    .dataframe tbody tr th {\n",
       "        vertical-align: top;\n",
       "    }\n",
       "\n",
       "    .dataframe thead th {\n",
       "        text-align: right;\n",
       "    }\n",
       "</style>\n",
       "<table border=\"1\" class=\"dataframe\">\n",
       "  <thead>\n",
       "    <tr style=\"text-align: right;\">\n",
       "      <th></th>\n",
       "      <th>ACTCMMID</th>\n",
       "      <th>SAT_AVG</th>\n",
       "    </tr>\n",
       "  </thead>\n",
       "  <tbody>\n",
       "    <tr>\n",
       "      <th>ACTCMMID</th>\n",
       "      <td>1.000000</td>\n",
       "      <td>0.977364</td>\n",
       "    </tr>\n",
       "    <tr>\n",
       "      <th>SAT_AVG</th>\n",
       "      <td>0.977364</td>\n",
       "      <td>1.000000</td>\n",
       "    </tr>\n",
       "  </tbody>\n",
       "</table>\n",
       "</div>"
      ],
      "text/plain": [
       "          ACTCMMID   SAT_AVG\n",
       "ACTCMMID  1.000000  0.977364\n",
       "SAT_AVG   0.977364  1.000000"
      ]
     },
     "execution_count": 53,
     "metadata": {},
     "output_type": "execute_result"
    }
   ],
   "source": [
    "cols = ['ACTCMMID', 'SAT_AVG']\n",
    "dataframe.loc[:, cols].corr()"
   ]
  },
  {
   "cell_type": "code",
   "execution_count": 54,
   "metadata": {},
   "outputs": [],
   "source": [
    "# SAT and ACT scores are very collinear, both graphically and numerically"
   ]
  },
  {
   "cell_type": "code",
   "execution_count": 55,
   "metadata": {},
   "outputs": [
    {
     "data": {
      "text/plain": [
       "57"
      ]
     },
     "execution_count": 55,
     "metadata": {},
     "output_type": "execute_result"
    }
   ],
   "source": [
    "(dataframe.ACTCMMID.isnull() & dataframe.SAT_AVG.notnull()).sum()"
   ]
  },
  {
   "cell_type": "code",
   "execution_count": 56,
   "metadata": {},
   "outputs": [
    {
     "data": {
      "text/plain": [
       "0"
      ]
     },
     "execution_count": 56,
     "metadata": {},
     "output_type": "execute_result"
    }
   ],
   "source": [
    "(dataframe.ACTCMMID.notnull() & dataframe.SAT_AVG.isnull()).sum()"
   ]
  },
  {
   "cell_type": "markdown",
   "metadata": {},
   "source": [
    "It looks like there is more SAT data than ACT data, so use SAT data for the predictor"
   ]
  },
  {
   "cell_type": "code",
   "execution_count": 57,
   "metadata": {},
   "outputs": [],
   "source": [
    "pop_predictor('ACTCMMID')\n",
    "dataframe.drop(columns='ACTCMMID', inplace=True)"
   ]
  },
  {
   "cell_type": "raw",
   "metadata": {},
   "source": [
    "CONTROL is 1 = public, 2 = private, non-profit.\n",
    "Change to a 1 = public, 0 = private categorical flag."
   ]
  },
  {
   "cell_type": "code",
   "execution_count": 58,
   "metadata": {},
   "outputs": [],
   "source": [
    "# then let's make this column a more traditional 0/1 categorical flag\n",
    "dataframe['PUBLIC'] = dataframe.eval('CONTROL == 1').astype(int)\n",
    "dataframe.drop(columns='CONTROL', inplace=True)\n",
    "\n",
    "idx = predictors.index('CONTROL')\n",
    "predictors[idx] = 'PUBLIC'"
   ]
  },
  {
   "cell_type": "code",
   "execution_count": 59,
   "metadata": {},
   "outputs": [
    {
     "data": {
      "text/html": [
       "<div>\n",
       "<style scoped>\n",
       "    .dataframe tbody tr th:only-of-type {\n",
       "        vertical-align: middle;\n",
       "    }\n",
       "\n",
       "    .dataframe tbody tr th {\n",
       "        vertical-align: top;\n",
       "    }\n",
       "\n",
       "    .dataframe thead th {\n",
       "        text-align: right;\n",
       "    }\n",
       "</style>\n",
       "<table border=\"1\" class=\"dataframe\">\n",
       "  <thead>\n",
       "    <tr style=\"text-align: right;\">\n",
       "      <th></th>\n",
       "      <th>TUITIONFEE_IN</th>\n",
       "      <th>TUITIONFEE_OUT</th>\n",
       "      <th>TUITFTE</th>\n",
       "      <th>COSTT4_A</th>\n",
       "    </tr>\n",
       "  </thead>\n",
       "  <tbody>\n",
       "    <tr>\n",
       "      <th>TUITIONFEE_IN</th>\n",
       "      <td>1.000000</td>\n",
       "      <td>0.905589</td>\n",
       "      <td>0.812161</td>\n",
       "      <td>0.982240</td>\n",
       "    </tr>\n",
       "    <tr>\n",
       "      <th>TUITIONFEE_OUT</th>\n",
       "      <td>0.905589</td>\n",
       "      <td>1.000000</td>\n",
       "      <td>0.782166</td>\n",
       "      <td>0.916137</td>\n",
       "    </tr>\n",
       "    <tr>\n",
       "      <th>TUITFTE</th>\n",
       "      <td>0.812161</td>\n",
       "      <td>0.782166</td>\n",
       "      <td>1.000000</td>\n",
       "      <td>0.827578</td>\n",
       "    </tr>\n",
       "    <tr>\n",
       "      <th>COSTT4_A</th>\n",
       "      <td>0.982240</td>\n",
       "      <td>0.916137</td>\n",
       "      <td>0.827578</td>\n",
       "      <td>1.000000</td>\n",
       "    </tr>\n",
       "  </tbody>\n",
       "</table>\n",
       "</div>"
      ],
      "text/plain": [
       "                TUITIONFEE_IN  TUITIONFEE_OUT   TUITFTE  COSTT4_A\n",
       "TUITIONFEE_IN        1.000000        0.905589  0.812161  0.982240\n",
       "TUITIONFEE_OUT       0.905589        1.000000  0.782166  0.916137\n",
       "TUITFTE              0.812161        0.782166  1.000000  0.827578\n",
       "COSTT4_A             0.982240        0.916137  0.827578  1.000000"
      ]
     },
     "execution_count": 59,
     "metadata": {},
     "output_type": "execute_result"
    }
   ],
   "source": [
    "# In state and out of state tuition are highly collinear\n",
    "dataframe[['TUITIONFEE_IN', 'TUITIONFEE_OUT', 'TUITFTE', 'COSTT4_A']].corr()"
   ]
  },
  {
   "cell_type": "code",
   "execution_count": 60,
   "metadata": {},
   "outputs": [
    {
     "data": {
      "text/plain": [
       "1763"
      ]
     },
     "execution_count": 60,
     "metadata": {},
     "output_type": "execute_result"
    }
   ],
   "source": [
    "dataframe.TUITIONFEE_IN.count()"
   ]
  },
  {
   "cell_type": "code",
   "execution_count": 61,
   "metadata": {},
   "outputs": [
    {
     "data": {
      "text/plain": [
       "1763"
      ]
     },
     "execution_count": 61,
     "metadata": {},
     "output_type": "execute_result"
    }
   ],
   "source": [
    "dataframe.TUITIONFEE_OUT.count()"
   ]
  },
  {
   "cell_type": "code",
   "execution_count": 62,
   "metadata": {},
   "outputs": [
    {
     "data": {
      "text/plain": [
       "1828"
      ]
     },
     "execution_count": 62,
     "metadata": {},
     "output_type": "execute_result"
    }
   ],
   "source": [
    "dataframe.TUITFTE.count() "
   ]
  },
  {
   "cell_type": "code",
   "execution_count": 63,
   "metadata": {},
   "outputs": [
    {
     "data": {
      "text/plain": [
       "1752"
      ]
     },
     "execution_count": 63,
     "metadata": {},
     "output_type": "execute_result"
    }
   ],
   "source": [
    "dataframe.COSTT4_A.count() "
   ]
  },
  {
   "cell_type": "code",
   "execution_count": 64,
   "metadata": {},
   "outputs": [],
   "source": [
    "# keep the ones with the most data!\n",
    "drop_these = [ 'TUITIONFEE_OUT', 'COSTT4_A' ]\n",
    "dataframe = dataframe.drop(columns=drop_these)\n",
    "pop_predictor(drop_these)"
   ]
  },
  {
   "cell_type": "code",
   "execution_count": 65,
   "metadata": {},
   "outputs": [],
   "source": [
    "# Turn relaffil into true/false religious affiliation, as \n",
    "# there are too many churches to make each one its own predictor\n",
    "dataframe['RELAFFIL'] = (dataframe.RELAFFIL > 0).astype(int)\n"
   ]
  },
  {
   "cell_type": "code",
   "execution_count": 66,
   "metadata": {},
   "outputs": [],
   "source": [
    "# Turn carnegie categories into dummies"
   ]
  },
  {
   "cell_type": "code",
   "execution_count": 67,
   "metadata": {},
   "outputs": [],
   "source": [
    "dataframe.CCUGPROF = dataframe.CCUGPROF.astype(int)\n",
    "dataframe['PART_TIME'] = 'unknown'\n",
    "dataframe.loc[dataframe.eval('CCUGPROF in [10,11,12,13,14,15]'), 'PART_TIME'] = 'lower'\n",
    "dataframe.loc[dataframe.eval('CCUGPROF in [6,7,8,9]'), 'PART_TIME'] = 'medium'\n",
    "dataframe.loc[dataframe.eval('CCUGPROF == 5'), 'PART_TIME'] = 'higher'\n",
    "\n",
    "dataframe['TRANSFERS'] = 'unknown'\n",
    "dataframe.loc[dataframe.eval('CCUGPROF in [6,8,10,12,14]'), 'TRANSFERS'] = 'lower'\n",
    "dataframe.loc[dataframe.eval('CCUGPROF in [5,7,9,11,13,15]'), 'TRANSFERS'] = 'higher'\n",
    "\n",
    "dataframe['INCLUSIVE'] = 'unknown'\n",
    "dataframe.loc[dataframe.eval('CCUGPROF in [5,6,7,10,11]'), 'INCLUSIVE'] = 'inclusive'\n",
    "dataframe.loc[dataframe.eval('CCUGPROF in [8,9,12,13]'), 'INCLUSIVE'] = 'selective'\n",
    "dataframe.loc[dataframe.eval('CCUGPROF in [14,15]'), 'INCLUSIVE'] = 'more_selective'\n",
    "\n",
    "dataframe.CCSIZSET = dataframe.CCSIZSET.astype(int)\n",
    "dataframe['SIZECAT'] = 'unknown'\n",
    "dataframe.loc[dataframe.eval('CCSIZSET in [6,7,8]'), 'SIZECAT'] =  'very_small'\n",
    "dataframe.loc[dataframe.eval('CCSIZSET in [9,10,11]'), 'SIZECAT'] =  'small'\n",
    "dataframe.loc[dataframe.eval('CCSIZSET in [12,13,14]'), 'SIZECAT'] =  'medium'\n",
    "dataframe.loc[dataframe.eval('CCSIZSET in [15,16,17]'), 'SIZECAT'] =  'large'\n",
    "\n",
    "dataframe['RESIDENTIAL'] = 'unknown'\n",
    "dataframe.loc[dataframe.eval('CCSIZSET in [6,9,12,15]'), 'RESIDENTIAL'] =  'nonresidential'\n",
    "dataframe.loc[dataframe.eval('CCSIZSET in [7,10,13,16]'), 'RESIDENTIAL'] =  'residential'\n",
    "dataframe.loc[dataframe.eval('CCSIZSET in [8,11,14,17]'), 'RESIDENTIAL'] =  'highly_residential'\n",
    "\n",
    "drop_these = ['CCUGPROF', 'CCSIZSET']\n",
    "pop_predictor(drop_these)\n",
    "dataframe = dataframe.drop(columns=drop_these)\n",
    "\n",
    "# one hot encoding\n",
    "cats = ['PART_TIME', 'TRANSFERS', 'INCLUSIVE', 'SIZECAT', \n",
    "        'RESIDENTIAL']\n",
    "dummies = pd.get_dummies(dataframe[cats], drop_first=True)\n",
    "dataframe = dataframe.drop(columns=cats)"
   ]
  },
  {
   "cell_type": "code",
   "execution_count": 68,
   "metadata": {},
   "outputs": [],
   "source": [
    "# output the data to the next notebook!"
   ]
  },
  {
   "cell_type": "code",
   "execution_count": 69,
   "metadata": {},
   "outputs": [
    {
     "data": {
      "text/plain": [
       "(1828, 44)"
      ]
     },
     "execution_count": 69,
     "metadata": {},
     "output_type": "execute_result"
    }
   ],
   "source": [
    "dataframe = pd.concat([dataframe, dummies], axis=1)\n",
    "dataframe.shape"
   ]
  },
  {
   "cell_type": "code",
   "execution_count": 70,
   "metadata": {},
   "outputs": [],
   "source": [
    "filename =  filedir +  \"MERGED2016_17_select.pck\" \n",
    "dataframe.to_pickle(filename)"
   ]
  },
  {
   "cell_type": "code",
   "execution_count": 71,
   "metadata": {},
   "outputs": [
    {
     "data": {
      "text/plain": [
       "Index(['HBCU', 'PBI', 'ANNHI', 'TRIBAL', 'AANAPII', 'HSI', 'NANTI', 'RELAFFIL',\n",
       "       'ADM_RATE', 'SAT_AVG', 'UGDS', 'UGDS_WHITE', 'UGDS_ASIAN', 'UGDS_NHPI',\n",
       "       'UGDS_2MOR', 'UGDS_NRA', 'UGDS_UNKN', 'PPTUG_EF', 'TUITIONFEE_IN',\n",
       "       'TUITFTE', 'INEXPFTE', 'AVGFACSAL', 'PFTFAC', 'PCTPELL', 'PFTFTUG1_EF',\n",
       "       'INSTNM', 'CITY', 'STABBR', 'ALIAS', 'INSTURL', 'ZIP', 'GRAD_DEBT_MDN',\n",
       "       'BACH_ONLY', 'PUBLIC', 'PART_TIME_lower', 'PART_TIME_medium',\n",
       "       'TRANSFERS_lower', 'INCLUSIVE_more_selective', 'INCLUSIVE_selective',\n",
       "       'SIZECAT_medium', 'SIZECAT_small', 'SIZECAT_very_small',\n",
       "       'RESIDENTIAL_nonresidential', 'RESIDENTIAL_residential'],\n",
       "      dtype='object')"
      ]
     },
     "execution_count": 71,
     "metadata": {},
     "output_type": "execute_result"
    }
   ],
   "source": [
    "dataframe.columns"
   ]
  },
  {
   "cell_type": "code",
   "execution_count": null,
   "metadata": {},
   "outputs": [],
   "source": []
  }
 ],
 "metadata": {
  "kernelspec": {
   "display_name": "Python 3",
   "language": "python",
   "name": "python3"
  },
  "language_info": {
   "codemirror_mode": {
    "name": "ipython",
    "version": 3
   },
   "file_extension": ".py",
   "mimetype": "text/x-python",
   "name": "python",
   "nbconvert_exporter": "python",
   "pygments_lexer": "ipython3",
   "version": "3.6.8"
  }
 },
 "nbformat": 4,
 "nbformat_minor": 2
}
