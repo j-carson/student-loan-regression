{
 "cells": [
  {
   "cell_type": "code",
   "execution_count": null,
   "metadata": {},
   "outputs": [],
   "source": [
    "import pandas as pd\n",
    "import numpy as np\n",
    "import time\n",
    "import os\n",
    "\n",
    "from selenium import webdriver\n",
    "from selenium.webdriver.common.keys import Keys\n",
    "# from selenium.webdriver.common.action_chains import ActionChains\n",
    "from selenium.webdriver.support.ui import Select\n",
    "from bs4 import BeautifulSoup"
   ]
  },
  {
   "cell_type": "markdown",
   "metadata": {},
   "source": [
    "## Get use of Parent PLUS loans data from collegedata.com -- step 1\n",
    "\n",
    "This notebook collects the links to the \"Money Matters\" page for each public and private college on collegedata.com. The lists are stored as pickle files in the subdirectory step1. \n",
    "\n",
    "The process is mostly automated, but the search form must be viewed at the lowest magnification supported by the browser. The selectors at the top of the form and the \n",
    "\"find\" button at the bottom of the form must both be visible for Selenium to run the searches. \n",
    "\n",
    "After the page is shrunk, the download loop runs unattended."
   ]
  },
  {
   "cell_type": "code",
   "execution_count": null,
   "metadata": {},
   "outputs": [],
   "source": [
    "# The search landing page\n",
    "SEARCH_URL =  \"https://www.collegedata.com/cs/search/college/college_search_tmpl.jhtml\"\n",
    "\n",
    "# The choices in the search parameters\n",
    "ITYPE_PRIVATE = \"2\"\n",
    "ITYPE_PUBLIC = \"1\"\n"
   ]
  },
  {
   "cell_type": "code",
   "execution_count": null,
   "metadata": {},
   "outputs": [],
   "source": [
    "profile = webdriver.FirefoxProfile()\n",
    "\n",
    "profile.set_preference(\"dom.disable_open_during_load\", False)\n",
    "driver = webdriver.Firefox(firefox_profile=profile)\n",
    "\n",
    "driver = webdriver.Firefox()\n",
    "driver.get(SEARCH_URL)"
   ]
  },
  {
   "cell_type": "markdown",
   "metadata": {},
   "source": [
    "# You MUST shrink the web page before continuing the rest of the notebook!\n",
    "\n",
    "The entire form must be visible with no scrolling required!"
   ]
  },
  {
   "cell_type": "code",
   "execution_count": null,
   "metadata": {},
   "outputs": [],
   "source": [
    "# Build the list of state names\n",
    "# strings of length two are state abbreviations,\n",
    "# we just don't want to grab 'No Preference'"
   ]
  },
  {
   "cell_type": "code",
   "execution_count": null,
   "metadata": {},
   "outputs": [],
   "source": [
    "STATES = []\n",
    "button = driver.find_element_by_name(\"states\")\n",
    "allOptions = button.find_elements_by_tag_name(\"option\")\n",
    "for option in allOptions:\n",
    "    value = option.get_attribute('value')\n",
    "    if len(value) == 2:\n",
    "        STATES += [value]    "
   ]
  },
  {
   "cell_type": "code",
   "execution_count": null,
   "metadata": {},
   "outputs": [],
   "source": [
    "# Choose the search options for the given state and institution type\n",
    "def select_state_intype(state, intype):\n",
    "    # The state is a multi-select so make sure we start\n",
    "    # with a clean slate\n",
    "    \n",
    "    select = Select(driver.find_element_by_name(\"states\"))\n",
    "    select.deselect_all()\n",
    "    \n",
    "    button = driver.find_element_by_name(\"states\")\n",
    "    allOptions = button.find_elements_by_tag_name(\"option\")\n",
    "    for option in allOptions:\n",
    "        value = option.get_attribute('value')\n",
    "        if value == state:\n",
    "            option.click()\n",
    "            break\n",
    "            \n",
    "    button = driver.find_element_by_name(\"institutionType\")\n",
    "    allOptions = button.find_elements_by_tag_name(\"option\")\n",
    "    for option in allOptions:\n",
    "        value = option.get_attribute('value')\n",
    "        if value == intype:\n",
    "            option.click()\n",
    "            break\n",
    "    \n",
    "     "
   ]
  },
  {
   "cell_type": "code",
   "execution_count": null,
   "metadata": {},
   "outputs": [],
   "source": [
    "# We're searching for a button that doesn't have a name\n",
    "# and can move location when the page redraws itself in \n",
    "# a shrunken window (or maybe when showing a different ad?)\n",
    "# There are two buttons labeled find on the page, but\n",
    "# one searches by name and the other by the drop-downs\n",
    "# We need to press the second one.\n",
    "def press_the_search_button():\n",
    "    buttons = driver.find_elements_by_tag_name(\"input\") \n",
    "    for b in buttons:\n",
    "        html = b.get_attribute('outerHTML')\n",
    "        idx = html.find('find.gif')\n",
    "        if idx != -1:\n",
    "            idx = html.find('checkCollegeName')\n",
    "            if idx == -1:\n",
    "                break\n",
    "    \n",
    "    b.click()\n",
    "    return"
   ]
  },
  {
   "cell_type": "code",
   "execution_count": null,
   "metadata": {},
   "outputs": [],
   "source": [
    "# Pandas read_html method reads the college name and the dropdown menu items as one field.\n",
    "# This strips off the dropdown menu to just the college name.\n",
    "def fix_college_name(broken):\n",
    "    idx = broken.find(' Overview')\n",
    "    return broken[:idx]"
   ]
  },
  {
   "cell_type": "code",
   "execution_count": null,
   "metadata": {},
   "outputs": [],
   "source": [
    "# Find the link with the href equal to the input college name\n",
    "# Then, instead of that link (Overview), switch to item 3 (Money Matters)\n",
    "def get_college_link(college_name):\n",
    "    link = driver.find_element_by_link_text(college_name)\n",
    "    href = link.get_attribute('href')\n",
    "    money_page = href.replace('pg01_tmpl', 'pg03_tmpl')\n",
    "    return money_page"
   ]
  },
  {
   "cell_type": "code",
   "execution_count": null,
   "metadata": {},
   "outputs": [],
   "source": [
    "# Main download loop --\n",
    "\n",
    "# Get for each state, create a dataframe of college data that includes\n",
    "# college identification (collegedata doesn't use the government IPEDS id, \n",
    "# so I grab name, city, state, and public/private as possible ways of doing a join \n",
    "# later) plus the link to that school's \"Money Matters\" page on collegedata.com\n",
    "\n",
    "df1_columns = ['College_Name', 'City', 'State', 'Money_url', 'InType' ]\n",
    "\n",
    "for state in STATES:\n",
    "    this_state = pd.DataFrame(columns=df1_columns)\n",
    "    for itype in [ITYPE_PRIVATE, ITYPE_PUBLIC]:\n",
    "        # Make sure we're on the search page\n",
    "        driver.get(SEARCH_URL)\n",
    "        select_state_intype(state, itype)\n",
    "        press_the_search_button()\n",
    "        \n",
    "        # need to do error checking on no results found\n",
    "        # there are no universities on Guam, for example\n",
    "        if driver.page_source.find(\"no matches\") != -1:\n",
    "            print(\"no matches\", state, itype)\n",
    "            # we will just have an empty dataframe for this iteration\n",
    "            this_iter = pd.DataFrame(columns=df1_columns)\n",
    "        else:\n",
    "            # Suck down the results\n",
    "            result = pd.read_html(driver.page_source)\n",
    "            college_names = result[1].loc[:,'College Name'].dropna().map(fix_college_name)\n",
    "            college_links = college_names.map(get_college_link)\n",
    "        \n",
    "            result[2].columns = result[2].columns.droplevel(1)\n",
    "            college_cities = result[2].loc[:,'City'].dropna()\n",
    "            college_states = result[2].loc[:,'State'].dropna()\n",
    "        \n",
    "            d = { df1_columns[0]:college_names, \n",
    "                df1_columns[1]:college_cities,\n",
    "                df1_columns[2]:college_states,\n",
    "                df1_columns[3]:college_links}\n",
    "            this_iter = pd.DataFrame(columns=df1_columns, data=d)\n",
    "            \n",
    "            if itype == ITYPE_PUBLIC:\n",
    "                this_iter['InType'] = 'Public'\n",
    "            else:\n",
    "                this_iter['InType'] = 'Private'\n",
    "            if this_iter.shape[0] == 25:\n",
    "                print(\"possible missed data\", state, itype)\n",
    "            this_state = this_state.append(this_iter, ignore_index=True)\n",
    "        \n",
    "    path = \"./step1/\" + state +  \".pickle\"\n",
    "    this_state.reset_index(inplace=True)\n",
    "    pd.to_pickle(this_state, path)\n",
    "        "
   ]
  },
  {
   "cell_type": "code",
   "execution_count": null,
   "metadata": {},
   "outputs": [],
   "source": [
    "driver.close()"
   ]
  },
  {
   "cell_type": "code",
   "execution_count": null,
   "metadata": {},
   "outputs": [],
   "source": []
  }
 ],
 "metadata": {
  "kernelspec": {
   "display_name": "Python 3",
   "language": "python",
   "name": "python3"
  },
  "language_info": {
   "codemirror_mode": {
    "name": "ipython",
    "version": 3
   },
   "file_extension": ".py",
   "mimetype": "text/x-python",
   "name": "python",
   "nbconvert_exporter": "python",
   "pygments_lexer": "ipython3",
   "version": "3.7.1"
  }
 },
 "nbformat": 4,
 "nbformat_minor": 2
}
